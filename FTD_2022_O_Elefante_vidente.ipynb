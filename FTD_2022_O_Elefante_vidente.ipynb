{
 "cells": [
  {
   "cell_type": "markdown",
   "metadata": {},
   "source": [
    "# O Elefante vidente\n",
    "\n",
    "Notebook apresentado no [Floripa Tech Day 2022](https://www.floripatechday.com.br/o-evento/) com o intuito de ser um índice de informações sobre como podemos executar algoritmos de machine learning \"dentro\" do próprio Postgres.\n",
    "\n",
    "## Versão: 0.9-beta\n",
    "\n",
    "Esta versão beta foi utilziada para testar a hipótese se era possível treinar um modelo, armazená-lo e reusá-lo para previsão posterior, validando algumas referências. \n",
    "Como próximos passos os modelos serão melhorados e gráficos serão utilizados para compor a análise.\n",
    "\n",
    "## O que veremos\n",
    "\n",
    "* PostgreSQL\n",
    "* Anaconda\n",
    "* Jupyter\n",
    "* VSCode\n",
    "* KMeans\n",
    "\n",
    "## Fontes: \n",
    "\n",
    "- https://www.postgresql.org/docs/14/plpython.html\n",
    "- https://archive.ics.uci.edu/ml/index.php\n",
    "- https://github.com/catherinedevlin/ipython-sql\n",
    "- https://rpubs.com/HassanOUKHOUYA/K-means\n",
    "- https://archive.ics.uci.edu/ml/machine-learning-databases/wine-quality/winequality-red.csv\n",
    "- https://gist.githubusercontent.com/curran/a08a1080b88344b0c8a7/raw/0e7a9b0a5d22642a06d3d5b9bcbad9890c8ee534/iris.csv\n",
    "- https://www.cybertec-postgresql.com/en/machine-learning-in-postgresql-part-1-kmeans-clustering/\n",
    "- https://www.askpython.com/python/examples/plot-k-means-clusters-python"
   ]
  },
  {
   "cell_type": "markdown",
   "metadata": {},
   "source": [
    "# Preparação do notebook"
   ]
  },
  {
   "cell_type": "code",
   "execution_count": 20,
   "metadata": {},
   "outputs": [
    {
     "name": "stdout",
     "output_type": "stream",
     "text": [
      "The sql extension is already loaded. To reload it, use:\n",
      "  %reload_ext sql\n"
     ]
    }
   ],
   "source": [
    "%load_ext sql\n",
    "%sql postgresql://guedes@localhost:5435/guedes"
   ]
  },
  {
   "cell_type": "markdown",
   "metadata": {},
   "source": [
    "## Limpeza inicial"
   ]
  },
  {
   "cell_type": "code",
   "execution_count": 50,
   "metadata": {},
   "outputs": [
    {
     "name": "stdout",
     "output_type": "stream",
     "text": [
      " * postgresql://guedes@localhost:5435/guedes\n",
      "Done.\n",
      "Done.\n",
      "Done.\n",
      "Done.\n",
      "Done.\n",
      "Done.\n",
      "Done.\n",
      "Done.\n",
      "Done.\n",
      "Done.\n"
     ]
    },
    {
     "data": {
      "text/plain": [
       "[]"
      ]
     },
     "execution_count": 50,
     "metadata": {},
     "output_type": "execute_result"
    }
   ],
   "source": [
    "%%sql\n",
    "drop table if exists iris;\n",
    "drop table if exists wine;\n",
    "drop table if exists models;\n",
    "drop table if exists red_wine;\n",
    "drop table if exists white_wine;\n",
    "drop function if exists show_tables();\n",
    "drop function if exists varios_testes();\n",
    "drop function if exists show_mnist();\n",
    "drop function if exists show_mnist(out text);\n",
    "drop function if exists show_mnist(out double precision, out double precision);\n",
    "drop function if exists get_kmeans_centroids(text, text, integer);\n",
    "drop function if exists kmeans(text, text[], integer);\n",
    "drop function if exists multiout_simple_setof(integer, integer, integer);\n",
    "drop function if exists multiout_simple_setof(integer);\n",
    "drop function if exists predict_kmeans(text, text, integer, real[]);"
   ]
  },
  {
   "cell_type": "markdown",
   "metadata": {},
   "source": [
    "# Criando funções auxiliares"
   ]
  },
  {
   "cell_type": "markdown",
   "metadata": {},
   "source": [
    "### Função que testa imports e execução de consulta"
   ]
  },
  {
   "cell_type": "code",
   "execution_count": 51,
   "metadata": {},
   "outputs": [
    {
     "name": "stdout",
     "output_type": "stream",
     "text": [
      " * postgresql://guedes@localhost:5435/guedes\n",
      "Done.\n"
     ]
    },
    {
     "data": {
      "text/plain": [
       "[]"
      ]
     },
     "execution_count": 51,
     "metadata": {},
     "output_type": "execute_result"
    }
   ],
   "source": [
    "%%sql\n",
    "create or replace \n",
    "    function varios_testes()\n",
    "    returns text\n",
    "as $$\n",
    "    import pandas as pd \n",
    "    import numpy as np\n",
    "    import tensorflow as tf\n",
    "\n",
    "    tables = plpy.execute('select schemaname, tablename, tableowner from pg_tables')\n",
    "\n",
    "    columns = list(tables[0].keys())\n",
    "    df = pd.DataFrame.from_records(tables, columns=columns)\n",
    "    df['table'] = df['tablename'].str.upper()\n",
    "\n",
    "    return 'tabelas: \\n{}\\n----\\n TF Version: {}'.format(df, tf.__version__)\n",
    "$$\n",
    "language plpython3u;"
   ]
  },
  {
   "cell_type": "code",
   "execution_count": 23,
   "metadata": {},
   "outputs": [
    {
     "name": "stdout",
     "output_type": "stream",
     "text": [
      " * postgresql://guedes@localhost:5435/guedes\n",
      "1 rows affected.\n"
     ]
    },
    {
     "data": {
      "text/html": [
       "<table>\n",
       "    <tr>\n",
       "        <th>varios_testes</th>\n",
       "    </tr>\n",
       "    <tr>\n",
       "        <td>tabelas: <br>            schemaname  ...                    table<br>0           pg_catalog  ...             PG_STATISTIC<br>1           pg_catalog  ...                  PG_TYPE<br>2           pg_catalog  ...         PG_FOREIGN_TABLE<br>3           pg_catalog  ...                PG_AUTHID<br>4           pg_catalog  ...    PG_STATISTIC_EXT_DATA<br>..                 ...  ...                      ...<br>61          pg_catalog  ...           PG_LARGEOBJECT<br>62  information_schema  ...                SQL_PARTS<br>63  information_schema  ...  SQL_IMPLEMENTATION_INFO<br>64  information_schema  ...             SQL_FEATURES<br>65  information_schema  ...               SQL_SIZING<br><br>[66 rows x 4 columns]<br>----<br> TF Version: 2.4.1</td>\n",
       "    </tr>\n",
       "</table>"
      ],
      "text/plain": [
       "[('tabelas: \\n            schemaname  ...                    table\\n0           pg_catalog  ...             PG_STATISTIC\\n1           pg_catalog  ...    ... (410 characters truncated) ... rmation_schema  ...             SQL_FEATURES\\n65  information_schema  ...               SQL_SIZING\\n\\n[66 rows x 4 columns]\\n----\\n TF Version: 2.4.1',)]"
      ]
     },
     "execution_count": 23,
     "metadata": {},
     "output_type": "execute_result"
    }
   ],
   "source": [
    "%%sql\n",
    "select varios_testes();"
   ]
  },
  {
   "cell_type": "markdown",
   "metadata": {},
   "source": [
    "#### Possível erro por conta da GLIBC"
   ]
  },
  {
   "cell_type": "markdown",
   "metadata": {},
   "source": [
    "Se este erro ocorrer, uma atitude marota precisa ser tomada...\n",
    "\n",
    "```\n",
    "(psycopg2.errors.ExternalRoutineException) ImportError: /usr/lib/x86_64-linux-gnu/libstdc++.so.6: version `GLIBCXX_3.4.29' not found (required by /home/guedes/anaconda3/envs/ml/lib/python3.9/site-packages/pandas/_libs/window/aggregations.cpython-39-x86_64-linux-gnu.so)\n",
    "CONTEXT:  Traceback (most recent call last):\n",
    "  PL/Python function \"show_tables\", line 2, in <module>\n",
    "    import pandas as pd \n",
    "  PL/Python function \"show_tables\", line 47, in <module>\n",
    "  PL/Python function \"show_tables\", line 47, in <module>\n",
    "  PL/Python function \"show_tables\", line 0, in <module>\n",
    "  PL/Python function \"show_tables\", line 69, in <module>\n",
    "  PL/Python function \"show_tables\", line 156, in <module>\n",
    "  PL/Python function \"show_tables\", line 151, in <module>\n",
    "  PL/Python function \"show_tables\", line 0, in <module>\n",
    "  PL/Python function \"show_tables\", line 11, in <module>\n",
    "PL/Python function \"show_tables\"\n",
    "\n",
    "[SQL: select * from show_tables();]\n",
    "```\n",
    "\n",
    "Forcei o link simbólico para a lib do meu env no Anaconda:\n",
    "\n",
    "```bash\n",
    "cd /usr/lib/x86_64-linux-gnu/\n",
    "sudo rm libstdc++.so.6\n",
    "sudo ln -s /home/guedes/anaconda3/envs/ml/lib/libstdc++.so.6.0.29\n",
    "sudo mv libstdc++.so.6.29 libstdc++.so.6.28\n",
    "```\n",
    "\n",
    "... e reiniciei o PostgreSQL."
   ]
  },
  {
   "cell_type": "markdown",
   "metadata": {},
   "source": [
    "### Função usando Tensorflow"
   ]
  },
  {
   "cell_type": "code",
   "execution_count": 52,
   "metadata": {},
   "outputs": [
    {
     "name": "stdout",
     "output_type": "stream",
     "text": [
      " * postgresql://guedes@localhost:5435/guedes\n",
      "Done.\n"
     ]
    },
    {
     "data": {
      "text/plain": [
       "[]"
      ]
     },
     "execution_count": 52,
     "metadata": {},
     "output_type": "execute_result"
    }
   ],
   "source": [
    "%%sql\n",
    "create or replace \n",
    "    function show_mnist(\n",
    "                out test_loss double precision, \n",
    "                out test_acc double precision\n",
    "    )\n",
    "    returns setof record\n",
    "as $$\n",
    "    import tensorflow as tf\n",
    "    mnist = tf.keras.datasets.mnist\n",
    "\n",
    "    (x_train, y_train),(x_test, y_test) = mnist.load_data()\n",
    "    x_train, x_test = x_train / 255.0, x_test / 255.0\n",
    "\n",
    "    model = tf.keras.models.Sequential([\n",
    "        tf.keras.layers.Flatten(input_shape=(28, 28)),\n",
    "        tf.keras.layers.Dense(128, activation='relu'),\n",
    "        tf.keras.layers.Dropout(0.2),\n",
    "        tf.keras.layers.Dense(10, activation='softmax')\n",
    "    ])\n",
    "\n",
    "    model.compile(optimizer='adam',\n",
    "                loss='sparse_categorical_crossentropy',\n",
    "                metrics=['accuracy'])\n",
    "\n",
    "    model.fit(x_train, y_train, epochs=5)\n",
    "    test_loss, test_acc = model.evaluate(x_test, y_test)\n",
    "    return [(test_loss, test_acc)]\n",
    "$$\n",
    "language plpython3u;"
   ]
  },
  {
   "cell_type": "code",
   "execution_count": 53,
   "metadata": {},
   "outputs": [
    {
     "name": "stdout",
     "output_type": "stream",
     "text": [
      " * postgresql://guedes@localhost:5435/guedes\n",
      "1 rows affected.\n"
     ]
    },
    {
     "data": {
      "text/html": [
       "<table>\n",
       "    <tr>\n",
       "        <th>test_loss</th>\n",
       "        <th>test_acc</th>\n",
       "    </tr>\n",
       "    <tr>\n",
       "        <td>0.07613225281238556</td>\n",
       "        <td>0.9776999950408936</td>\n",
       "    </tr>\n",
       "</table>"
      ],
      "text/plain": [
       "[(0.07613225281238556, 0.9776999950408936)]"
      ]
     },
     "execution_count": 53,
     "metadata": {},
     "output_type": "execute_result"
    }
   ],
   "source": [
    "%%sql\n",
    "select * from show_mnist();"
   ]
  },
  {
   "cell_type": "markdown",
   "metadata": {},
   "source": [
    "Não seria maravilhoso conseguir deixar esse modelo armazenado?"
   ]
  },
  {
   "cell_type": "markdown",
   "metadata": {},
   "source": [
    "# Clusterizando dados"
   ]
  },
  {
   "cell_type": "code",
   "execution_count": 54,
   "metadata": {},
   "outputs": [
    {
     "name": "stdout",
     "output_type": "stream",
     "text": [
      " * postgresql://guedes@localhost:5435/guedes\n",
      "Done.\n",
      "Done.\n"
     ]
    },
    {
     "data": {
      "text/plain": [
       "[]"
      ]
     },
     "execution_count": 54,
     "metadata": {},
     "output_type": "execute_result"
    }
   ],
   "source": [
    "%%sql\n",
    "create table iris(\n",
    "    sepal_length real,\n",
    "    sepal_width real,\n",
    "    petal_length real,\n",
    "    petal_width real,\n",
    "    species varchar(20)\n",
    ");\n",
    "\n",
    "create table white_wine(\n",
    "    fixed_acidity         real,\n",
    "    volatile_acidity      real,\n",
    "    citric_acid           real,\n",
    "    residual_sugar        real,\n",
    "    chlorides             real,\n",
    "    free_sulfur_dioxide   real,\n",
    "    total_sulfur_dioxide  real,\n",
    "    density               real,\n",
    "    pH                    real,\n",
    "    sulphates             real,\n",
    "    alcohol               real,\n",
    "    quality               real\n",
    ");\n"
   ]
  },
  {
   "cell_type": "markdown",
   "metadata": {},
   "source": [
    "Para armazenar os modelos gerados, vamos serializá-los na base de dados usando a tabela abaixo:"
   ]
  },
  {
   "cell_type": "code",
   "execution_count": 55,
   "metadata": {},
   "outputs": [
    {
     "name": "stdout",
     "output_type": "stream",
     "text": [
      " * postgresql://guedes@localhost:5435/guedes\n",
      "Done.\n"
     ]
    },
    {
     "data": {
      "text/plain": [
       "[]"
      ]
     },
     "execution_count": 55,
     "metadata": {},
     "output_type": "execute_result"
    }
   ],
   "source": [
    "%%sql\n",
    "create table models (\n",
    "    model_name text primary key,\n",
    "    model_dump bytea not null\n",
    ");\n"
   ]
  },
  {
   "cell_type": "markdown",
   "metadata": {},
   "source": [
    "Podemos também fazer parte do código em nossa máquina em situações em que o banco pode não ter acesso a chamadas HTTPS externas. Abaixo um exemplo:"
   ]
  },
  {
   "cell_type": "code",
   "execution_count": 56,
   "metadata": {},
   "outputs": [],
   "source": [
    "def load_data():\n",
    "    import psycopg2\n",
    "    import requests\n",
    "    from io import BytesIO\n",
    "    \n",
    "    white_wine_url = \"https://archive.ics.uci.edu/ml/machine-learning-databases/wine-quality/winequality-white.csv\"\n",
    "    iris_data_url  = \"https://gist.githubusercontent.com/curran/a08a1080b88344b0c8a7/raw/0e7a9b0a5d22642a06d3d5b9bcbad9890c8ee534/iris.csv\"\n",
    "\n",
    "    resp_white = BytesIO(requests.get(white_wine_url).content)\n",
    "    resp_iris = BytesIO(requests.get(iris_data_url).content)\n",
    "\n",
    "    conn = psycopg2.connect(\"host=localhost dbname=guedes user=guedes port=5435\")\n",
    "    cur = conn.cursor()\n",
    "\n",
    "    with resp_white as f:\n",
    "        next(f)\n",
    "        cur.copy_from(f, 'white_wine', sep=';')\n",
    "\n",
    "    with resp_iris as f:\n",
    "        next(f)\n",
    "        cur.copy_from(f, 'iris', sep=',')\n",
    "\n",
    "    conn.commit()"
   ]
  },
  {
   "cell_type": "markdown",
   "metadata": {},
   "source": [
    "E então executamos localmente..."
   ]
  },
  {
   "cell_type": "code",
   "execution_count": 57,
   "metadata": {},
   "outputs": [],
   "source": [
    "load_data()"
   ]
  },
  {
   "cell_type": "markdown",
   "metadata": {},
   "source": [
    "No Postgres seria algo mais ou menos como:\n",
    "\n",
    "\n",
    "```sql\n",
    "\\copy iris from iris.data delimiter ','\n",
    "\\copy wine from winequality-white.csv csv header delimiter ';'\n",
    "\\copy wine from winequality-red.csv csv header delimiter ';'\n",
    "```"
   ]
  },
  {
   "cell_type": "code",
   "execution_count": 58,
   "metadata": {},
   "outputs": [
    {
     "name": "stdout",
     "output_type": "stream",
     "text": [
      " * postgresql://guedes@localhost:5435/guedes\n",
      "4898 rows affected.\n",
      " * postgresql://guedes@localhost:5435/guedes\n",
      "150 rows affected.\n"
     ]
    }
   ],
   "source": [
    "white_wine_ = %sql select * from white_wine\n",
    "iris_ = %sql select * from iris"
   ]
  },
  {
   "cell_type": "code",
   "execution_count": 59,
   "metadata": {},
   "outputs": [],
   "source": [
    "white_wine = white_wine_.DataFrame()\n",
    "iris = iris_.DataFrame()\n",
    "\n",
    "del(white_wine_)\n",
    "del(iris_)"
   ]
  },
  {
   "cell_type": "code",
   "execution_count": 60,
   "metadata": {},
   "outputs": [
    {
     "data": {
      "text/html": [
       "<div>\n",
       "<style scoped>\n",
       "    .dataframe tbody tr th:only-of-type {\n",
       "        vertical-align: middle;\n",
       "    }\n",
       "\n",
       "    .dataframe tbody tr th {\n",
       "        vertical-align: top;\n",
       "    }\n",
       "\n",
       "    .dataframe thead th {\n",
       "        text-align: right;\n",
       "    }\n",
       "</style>\n",
       "<table border=\"1\" class=\"dataframe\">\n",
       "  <thead>\n",
       "    <tr style=\"text-align: right;\">\n",
       "      <th></th>\n",
       "      <th>fixed_acidity</th>\n",
       "      <th>volatile_acidity</th>\n",
       "      <th>citric_acid</th>\n",
       "      <th>residual_sugar</th>\n",
       "      <th>chlorides</th>\n",
       "      <th>free_sulfur_dioxide</th>\n",
       "      <th>total_sulfur_dioxide</th>\n",
       "      <th>density</th>\n",
       "      <th>ph</th>\n",
       "      <th>sulphates</th>\n",
       "      <th>alcohol</th>\n",
       "      <th>quality</th>\n",
       "    </tr>\n",
       "  </thead>\n",
       "  <tbody>\n",
       "    <tr>\n",
       "      <th>0</th>\n",
       "      <td>7.0</td>\n",
       "      <td>0.27</td>\n",
       "      <td>0.36</td>\n",
       "      <td>20.7</td>\n",
       "      <td>0.045</td>\n",
       "      <td>45.0</td>\n",
       "      <td>170.0</td>\n",
       "      <td>1.0010</td>\n",
       "      <td>3.00</td>\n",
       "      <td>0.45</td>\n",
       "      <td>8.8</td>\n",
       "      <td>6.0</td>\n",
       "    </tr>\n",
       "    <tr>\n",
       "      <th>1</th>\n",
       "      <td>6.3</td>\n",
       "      <td>0.30</td>\n",
       "      <td>0.34</td>\n",
       "      <td>1.6</td>\n",
       "      <td>0.049</td>\n",
       "      <td>14.0</td>\n",
       "      <td>132.0</td>\n",
       "      <td>0.9940</td>\n",
       "      <td>3.30</td>\n",
       "      <td>0.49</td>\n",
       "      <td>9.5</td>\n",
       "      <td>6.0</td>\n",
       "    </tr>\n",
       "    <tr>\n",
       "      <th>2</th>\n",
       "      <td>8.1</td>\n",
       "      <td>0.28</td>\n",
       "      <td>0.40</td>\n",
       "      <td>6.9</td>\n",
       "      <td>0.050</td>\n",
       "      <td>30.0</td>\n",
       "      <td>97.0</td>\n",
       "      <td>0.9951</td>\n",
       "      <td>3.26</td>\n",
       "      <td>0.44</td>\n",
       "      <td>10.1</td>\n",
       "      <td>6.0</td>\n",
       "    </tr>\n",
       "    <tr>\n",
       "      <th>3</th>\n",
       "      <td>7.2</td>\n",
       "      <td>0.23</td>\n",
       "      <td>0.32</td>\n",
       "      <td>8.5</td>\n",
       "      <td>0.058</td>\n",
       "      <td>47.0</td>\n",
       "      <td>186.0</td>\n",
       "      <td>0.9956</td>\n",
       "      <td>3.19</td>\n",
       "      <td>0.40</td>\n",
       "      <td>9.9</td>\n",
       "      <td>6.0</td>\n",
       "    </tr>\n",
       "    <tr>\n",
       "      <th>4</th>\n",
       "      <td>7.2</td>\n",
       "      <td>0.23</td>\n",
       "      <td>0.32</td>\n",
       "      <td>8.5</td>\n",
       "      <td>0.058</td>\n",
       "      <td>47.0</td>\n",
       "      <td>186.0</td>\n",
       "      <td>0.9956</td>\n",
       "      <td>3.19</td>\n",
       "      <td>0.40</td>\n",
       "      <td>9.9</td>\n",
       "      <td>6.0</td>\n",
       "    </tr>\n",
       "  </tbody>\n",
       "</table>\n",
       "</div>"
      ],
      "text/plain": [
       "   fixed_acidity  volatile_acidity  citric_acid  residual_sugar  chlorides  \\\n",
       "0            7.0              0.27         0.36            20.7      0.045   \n",
       "1            6.3              0.30         0.34             1.6      0.049   \n",
       "2            8.1              0.28         0.40             6.9      0.050   \n",
       "3            7.2              0.23         0.32             8.5      0.058   \n",
       "4            7.2              0.23         0.32             8.5      0.058   \n",
       "\n",
       "   free_sulfur_dioxide  total_sulfur_dioxide  density    ph  sulphates  \\\n",
       "0                 45.0                 170.0   1.0010  3.00       0.45   \n",
       "1                 14.0                 132.0   0.9940  3.30       0.49   \n",
       "2                 30.0                  97.0   0.9951  3.26       0.44   \n",
       "3                 47.0                 186.0   0.9956  3.19       0.40   \n",
       "4                 47.0                 186.0   0.9956  3.19       0.40   \n",
       "\n",
       "   alcohol  quality  \n",
       "0      8.8      6.0  \n",
       "1      9.5      6.0  \n",
       "2     10.1      6.0  \n",
       "3      9.9      6.0  \n",
       "4      9.9      6.0  "
      ]
     },
     "execution_count": 60,
     "metadata": {},
     "output_type": "execute_result"
    }
   ],
   "source": [
    "white_wine.head()"
   ]
  },
  {
   "cell_type": "code",
   "execution_count": 61,
   "metadata": {},
   "outputs": [
    {
     "data": {
      "text/html": [
       "<div>\n",
       "<style scoped>\n",
       "    .dataframe tbody tr th:only-of-type {\n",
       "        vertical-align: middle;\n",
       "    }\n",
       "\n",
       "    .dataframe tbody tr th {\n",
       "        vertical-align: top;\n",
       "    }\n",
       "\n",
       "    .dataframe thead th {\n",
       "        text-align: right;\n",
       "    }\n",
       "</style>\n",
       "<table border=\"1\" class=\"dataframe\">\n",
       "  <thead>\n",
       "    <tr style=\"text-align: right;\">\n",
       "      <th></th>\n",
       "      <th>sepal_length</th>\n",
       "      <th>sepal_width</th>\n",
       "      <th>petal_length</th>\n",
       "      <th>petal_width</th>\n",
       "      <th>species</th>\n",
       "    </tr>\n",
       "  </thead>\n",
       "  <tbody>\n",
       "    <tr>\n",
       "      <th>0</th>\n",
       "      <td>5.1</td>\n",
       "      <td>3.5</td>\n",
       "      <td>1.4</td>\n",
       "      <td>0.2</td>\n",
       "      <td>setosa</td>\n",
       "    </tr>\n",
       "    <tr>\n",
       "      <th>1</th>\n",
       "      <td>4.9</td>\n",
       "      <td>3.0</td>\n",
       "      <td>1.4</td>\n",
       "      <td>0.2</td>\n",
       "      <td>setosa</td>\n",
       "    </tr>\n",
       "    <tr>\n",
       "      <th>2</th>\n",
       "      <td>4.7</td>\n",
       "      <td>3.2</td>\n",
       "      <td>1.3</td>\n",
       "      <td>0.2</td>\n",
       "      <td>setosa</td>\n",
       "    </tr>\n",
       "    <tr>\n",
       "      <th>3</th>\n",
       "      <td>4.6</td>\n",
       "      <td>3.1</td>\n",
       "      <td>1.5</td>\n",
       "      <td>0.2</td>\n",
       "      <td>setosa</td>\n",
       "    </tr>\n",
       "    <tr>\n",
       "      <th>4</th>\n",
       "      <td>5.0</td>\n",
       "      <td>3.6</td>\n",
       "      <td>1.4</td>\n",
       "      <td>0.2</td>\n",
       "      <td>setosa</td>\n",
       "    </tr>\n",
       "  </tbody>\n",
       "</table>\n",
       "</div>"
      ],
      "text/plain": [
       "   sepal_length  sepal_width  petal_length  petal_width species\n",
       "0           5.1          3.5           1.4          0.2  setosa\n",
       "1           4.9          3.0           1.4          0.2  setosa\n",
       "2           4.7          3.2           1.3          0.2  setosa\n",
       "3           4.6          3.1           1.5          0.2  setosa\n",
       "4           5.0          3.6           1.4          0.2  setosa"
      ]
     },
     "execution_count": 61,
     "metadata": {},
     "output_type": "execute_result"
    }
   ],
   "source": [
    "iris.head()"
   ]
  },
  {
   "cell_type": "code",
   "execution_count": 69,
   "metadata": {},
   "outputs": [
    {
     "name": "stdout",
     "output_type": "stream",
     "text": [
      " * postgresql://guedes@localhost:5435/guedes\n",
      "Done.\n",
      "Done.\n",
      "Done.\n"
     ]
    },
    {
     "data": {
      "text/plain": [
       "[]"
      ]
     },
     "execution_count": 69,
     "metadata": {},
     "output_type": "execute_result"
    }
   ],
   "source": [
    "%%sql\n",
    "create or replace \n",
    "    function kmeans(\n",
    "                input_table text, \n",
    "                columns text[], \n",
    "                clus_num int\n",
    "    )\n",
    "returns bytea as\n",
    "$$\n",
    "    from pandas import DataFrame\n",
    "    from sklearn.cluster import KMeans\n",
    "    from pickle import dumps\n",
    "    \n",
    "    all_columns = \",\".join(columns)\n",
    "    if all_columns == \"\":\n",
    "        all_columns = \"*\"\n",
    "    \n",
    "    rv = plpy.execute('SELECT %s FROM %s;' % (all_columns, plpy.quote_ident(input_table)))\n",
    "    \n",
    "    frame = []\n",
    "    \n",
    "    for i in rv:\n",
    "        frame.append(i)\n",
    "    df = DataFrame(frame)\n",
    "    kmeans = KMeans(n_clusters=clus_num, random_state=0).fit(df._get_numeric_data())\n",
    "    return dumps(kmeans)\n",
    "$$\n",
    "language plpython3u;\n",
    "\n",
    "create or replace \n",
    "    function get_kmeans_centroids(\n",
    "                    model_table text, \n",
    "                    model_column text, \n",
    "                    model_name text \n",
    "    )\n",
    "returns real[] as\n",
    "$$\n",
    "    from pandas import DataFrame\n",
    "    from pickle import loads\n",
    "    \n",
    "    rv = plpy.execute('SELECT %s FROM %s WHERE model_name = %s;' % (plpy.quote_ident(model_column), plpy.quote_ident(model_table), plpy.quote_literal(model_name)))\n",
    "    model = loads(rv[0][model_column])\n",
    "    ret = list(map(list, model.cluster_centers_))\n",
    "    return ret\n",
    "$$\n",
    "language plpython3u;\n",
    "\n",
    "create or replace \n",
    "    function predict_kmeans(\n",
    "                model_table text, \n",
    "                model_column text, \n",
    "                model_name text, \n",
    "                input_values real[]\n",
    "    )\n",
    "returns int[] as\n",
    "$$\n",
    "    from pickle import loads\n",
    "    \n",
    "    rv = plpy.execute('SELECT %s FROM %s WHERE model_name = %s;' % (plpy.quote_ident(model_column), plpy.quote_ident(model_table), plpy.quote_literal(model_name)))\n",
    "    \n",
    "    model = loads(rv[0][model_column])\n",
    "    ret = model.predict(input_values)\n",
    "    return ret\n",
    "$$\n",
    "language plpython3u;"
   ]
  },
  {
   "cell_type": "code",
   "execution_count": 74,
   "metadata": {},
   "outputs": [
    {
     "name": "stdout",
     "output_type": "stream",
     "text": [
      " * postgresql://guedes@localhost:5435/guedes\n",
      "1 rows affected.\n"
     ]
    },
    {
     "data": {
      "text/plain": [
       "[]"
      ]
     },
     "execution_count": 74,
     "metadata": {},
     "output_type": "execute_result"
    }
   ],
   "source": [
    "%%sql\n",
    "insert into models(model_name, model_dump) \n",
    "  select 'iris', \n",
    "         kmeans('iris', \n",
    "                array[]::text[], \n",
    "                3);"
   ]
  },
  {
   "cell_type": "code",
   "execution_count": 78,
   "metadata": {},
   "outputs": [
    {
     "name": "stdout",
     "output_type": "stream",
     "text": [
      " * postgresql://guedes@localhost:5435/guedes\n",
      "1 rows affected.\n"
     ]
    },
    {
     "data": {
      "text/plain": [
       "[]"
      ]
     },
     "execution_count": 78,
     "metadata": {},
     "output_type": "execute_result"
    }
   ],
   "source": [
    "%%sql\n",
    "insert into models(model_name, model_dump) \n",
    "  select 'white_wine',\n",
    "  kmeans('white_wine', \n",
    "                array[\n",
    "                    'fixed_acidity', \n",
    "                    'volatile_acidity', \n",
    "                    'citric_acid', \n",
    "                    'residual_sugar', \n",
    "                    'chlorides', \n",
    "                    'free_sulfur_dioxide', \n",
    "                    'total_sulfur_dioxide', \n",
    "                    'density', \n",
    "                    'pH', \n",
    "                    'sulphates', \n",
    "                    'alcohol']::text[], \n",
    "                    10);"
   ]
  },
  {
   "cell_type": "code",
   "execution_count": 75,
   "metadata": {},
   "outputs": [
    {
     "name": "stdout",
     "output_type": "stream",
     "text": [
      " * postgresql://guedes@localhost:5435/guedes\n",
      "5 rows affected.\n"
     ]
    },
    {
     "data": {
      "text/html": [
       "<table>\n",
       "    <tr>\n",
       "        <th>species</th>\n",
       "        <th>predict_kmeans</th>\n",
       "    </tr>\n",
       "    <tr>\n",
       "        <td>setosa</td>\n",
       "        <td>[0]</td>\n",
       "    </tr>\n",
       "    <tr>\n",
       "        <td>versicolor</td>\n",
       "        <td>[0]</td>\n",
       "    </tr>\n",
       "    <tr>\n",
       "        <td>versicolor</td>\n",
       "        <td>[2]</td>\n",
       "    </tr>\n",
       "    <tr>\n",
       "        <td>virginica</td>\n",
       "        <td>[0]</td>\n",
       "    </tr>\n",
       "    <tr>\n",
       "        <td>virginica</td>\n",
       "        <td>[2]</td>\n",
       "    </tr>\n",
       "</table>"
      ],
      "text/plain": [
       "[('setosa', [0]),\n",
       " ('versicolor', [0]),\n",
       " ('versicolor', [2]),\n",
       " ('virginica', [0]),\n",
       " ('virginica', [2])]"
      ]
     },
     "execution_count": 75,
     "metadata": {},
     "output_type": "execute_result"
    }
   ],
   "source": [
    "%%sql \n",
    "select distinct \n",
    "       species, \n",
    "       predict_kmeans('models', \n",
    "                      'model_dump', \n",
    "                      'iris', \n",
    "                      array[[\n",
    "                        petal_length, \n",
    "                        petal_width, \n",
    "                        sepal_length, \n",
    "                        sepal_width]]) \n",
    "    from iris;"
   ]
  },
  {
   "cell_type": "code",
   "execution_count": 79,
   "metadata": {},
   "outputs": [
    {
     "name": "stdout",
     "output_type": "stream",
     "text": [
      " * postgresql://guedes@localhost:5435/guedes\n",
      "59 rows affected.\n"
     ]
    },
    {
     "data": {
      "text/html": [
       "<table>\n",
       "    <tr>\n",
       "        <th>quality</th>\n",
       "        <th>predict_kmeans</th>\n",
       "    </tr>\n",
       "    <tr>\n",
       "        <td>3.0</td>\n",
       "        <td>[3]</td>\n",
       "    </tr>\n",
       "    <tr>\n",
       "        <td>3.0</td>\n",
       "        <td>[6]</td>\n",
       "    </tr>\n",
       "    <tr>\n",
       "        <td>3.0</td>\n",
       "        <td>[8]</td>\n",
       "    </tr>\n",
       "    <tr>\n",
       "        <td>3.0</td>\n",
       "        <td>[7]</td>\n",
       "    </tr>\n",
       "    <tr>\n",
       "        <td>3.0</td>\n",
       "        <td>[4]</td>\n",
       "    </tr>\n",
       "    <tr>\n",
       "        <td>3.0</td>\n",
       "        <td>[2]</td>\n",
       "    </tr>\n",
       "    <tr>\n",
       "        <td>3.0</td>\n",
       "        <td>[9]</td>\n",
       "    </tr>\n",
       "    <tr>\n",
       "        <td>3.0</td>\n",
       "        <td>[1]</td>\n",
       "    </tr>\n",
       "    <tr>\n",
       "        <td>3.0</td>\n",
       "        <td>[0]</td>\n",
       "    </tr>\n",
       "    <tr>\n",
       "        <td>4.0</td>\n",
       "        <td>[6]</td>\n",
       "    </tr>\n",
       "    <tr>\n",
       "        <td>4.0</td>\n",
       "        <td>[8]</td>\n",
       "    </tr>\n",
       "    <tr>\n",
       "        <td>4.0</td>\n",
       "        <td>[0]</td>\n",
       "    </tr>\n",
       "    <tr>\n",
       "        <td>4.0</td>\n",
       "        <td>[5]</td>\n",
       "    </tr>\n",
       "    <tr>\n",
       "        <td>4.0</td>\n",
       "        <td>[3]</td>\n",
       "    </tr>\n",
       "    <tr>\n",
       "        <td>4.0</td>\n",
       "        <td>[9]</td>\n",
       "    </tr>\n",
       "    <tr>\n",
       "        <td>4.0</td>\n",
       "        <td>[2]</td>\n",
       "    </tr>\n",
       "    <tr>\n",
       "        <td>4.0</td>\n",
       "        <td>[7]</td>\n",
       "    </tr>\n",
       "    <tr>\n",
       "        <td>4.0</td>\n",
       "        <td>[4]</td>\n",
       "    </tr>\n",
       "    <tr>\n",
       "        <td>4.0</td>\n",
       "        <td>[1]</td>\n",
       "    </tr>\n",
       "    <tr>\n",
       "        <td>5.0</td>\n",
       "        <td>[5]</td>\n",
       "    </tr>\n",
       "    <tr>\n",
       "        <td>5.0</td>\n",
       "        <td>[2]</td>\n",
       "    </tr>\n",
       "    <tr>\n",
       "        <td>5.0</td>\n",
       "        <td>[7]</td>\n",
       "    </tr>\n",
       "    <tr>\n",
       "        <td>5.0</td>\n",
       "        <td>[8]</td>\n",
       "    </tr>\n",
       "    <tr>\n",
       "        <td>5.0</td>\n",
       "        <td>[4]</td>\n",
       "    </tr>\n",
       "    <tr>\n",
       "        <td>5.0</td>\n",
       "        <td>[3]</td>\n",
       "    </tr>\n",
       "    <tr>\n",
       "        <td>5.0</td>\n",
       "        <td>[9]</td>\n",
       "    </tr>\n",
       "    <tr>\n",
       "        <td>5.0</td>\n",
       "        <td>[6]</td>\n",
       "    </tr>\n",
       "    <tr>\n",
       "        <td>5.0</td>\n",
       "        <td>[1]</td>\n",
       "    </tr>\n",
       "    <tr>\n",
       "        <td>5.0</td>\n",
       "        <td>[0]</td>\n",
       "    </tr>\n",
       "    <tr>\n",
       "        <td>6.0</td>\n",
       "        <td>[1]</td>\n",
       "    </tr>\n",
       "    <tr>\n",
       "        <td>6.0</td>\n",
       "        <td>[4]</td>\n",
       "    </tr>\n",
       "    <tr>\n",
       "        <td>6.0</td>\n",
       "        <td>[9]</td>\n",
       "    </tr>\n",
       "    <tr>\n",
       "        <td>6.0</td>\n",
       "        <td>[5]</td>\n",
       "    </tr>\n",
       "    <tr>\n",
       "        <td>6.0</td>\n",
       "        <td>[0]</td>\n",
       "    </tr>\n",
       "    <tr>\n",
       "        <td>6.0</td>\n",
       "        <td>[8]</td>\n",
       "    </tr>\n",
       "    <tr>\n",
       "        <td>6.0</td>\n",
       "        <td>[2]</td>\n",
       "    </tr>\n",
       "    <tr>\n",
       "        <td>6.0</td>\n",
       "        <td>[3]</td>\n",
       "    </tr>\n",
       "    <tr>\n",
       "        <td>6.0</td>\n",
       "        <td>[6]</td>\n",
       "    </tr>\n",
       "    <tr>\n",
       "        <td>7.0</td>\n",
       "        <td>[1]</td>\n",
       "    </tr>\n",
       "    <tr>\n",
       "        <td>7.0</td>\n",
       "        <td>[6]</td>\n",
       "    </tr>\n",
       "    <tr>\n",
       "        <td>7.0</td>\n",
       "        <td>[9]</td>\n",
       "    </tr>\n",
       "    <tr>\n",
       "        <td>7.0</td>\n",
       "        <td>[8]</td>\n",
       "    </tr>\n",
       "    <tr>\n",
       "        <td>7.0</td>\n",
       "        <td>[4]</td>\n",
       "    </tr>\n",
       "    <tr>\n",
       "        <td>7.0</td>\n",
       "        <td>[5]</td>\n",
       "    </tr>\n",
       "    <tr>\n",
       "        <td>7.0</td>\n",
       "        <td>[0]</td>\n",
       "    </tr>\n",
       "    <tr>\n",
       "        <td>7.0</td>\n",
       "        <td>[2]</td>\n",
       "    </tr>\n",
       "    <tr>\n",
       "        <td>7.0</td>\n",
       "        <td>[3]</td>\n",
       "    </tr>\n",
       "    <tr>\n",
       "        <td>8.0</td>\n",
       "        <td>[3]</td>\n",
       "    </tr>\n",
       "    <tr>\n",
       "        <td>8.0</td>\n",
       "        <td>[2]</td>\n",
       "    </tr>\n",
       "    <tr>\n",
       "        <td>8.0</td>\n",
       "        <td>[6]</td>\n",
       "    </tr>\n",
       "    <tr>\n",
       "        <td>8.0</td>\n",
       "        <td>[4]</td>\n",
       "    </tr>\n",
       "    <tr>\n",
       "        <td>8.0</td>\n",
       "        <td>[0]</td>\n",
       "    </tr>\n",
       "    <tr>\n",
       "        <td>8.0</td>\n",
       "        <td>[5]</td>\n",
       "    </tr>\n",
       "    <tr>\n",
       "        <td>8.0</td>\n",
       "        <td>[1]</td>\n",
       "    </tr>\n",
       "    <tr>\n",
       "        <td>8.0</td>\n",
       "        <td>[8]</td>\n",
       "    </tr>\n",
       "    <tr>\n",
       "        <td>8.0</td>\n",
       "        <td>[9]</td>\n",
       "    </tr>\n",
       "    <tr>\n",
       "        <td>9.0</td>\n",
       "        <td>[3]</td>\n",
       "    </tr>\n",
       "    <tr>\n",
       "        <td>9.0</td>\n",
       "        <td>[1]</td>\n",
       "    </tr>\n",
       "    <tr>\n",
       "        <td>9.0</td>\n",
       "        <td>[9]</td>\n",
       "    </tr>\n",
       "</table>"
      ],
      "text/plain": [
       "[(3.0, [3]),\n",
       " (3.0, [6]),\n",
       " (3.0, [8]),\n",
       " (3.0, [7]),\n",
       " (3.0, [4]),\n",
       " (3.0, [2]),\n",
       " (3.0, [9]),\n",
       " (3.0, [1]),\n",
       " (3.0, [0]),\n",
       " (4.0, [6]),\n",
       " (4.0, [8]),\n",
       " (4.0, [0]),\n",
       " (4.0, [5]),\n",
       " (4.0, [3]),\n",
       " (4.0, [9]),\n",
       " (4.0, [2]),\n",
       " (4.0, [7]),\n",
       " (4.0, [4]),\n",
       " (4.0, [1]),\n",
       " (5.0, [5]),\n",
       " (5.0, [2]),\n",
       " (5.0, [7]),\n",
       " (5.0, [8]),\n",
       " (5.0, [4]),\n",
       " (5.0, [3]),\n",
       " (5.0, [9]),\n",
       " (5.0, [6]),\n",
       " (5.0, [1]),\n",
       " (5.0, [0]),\n",
       " (6.0, [1]),\n",
       " (6.0, [4]),\n",
       " (6.0, [9]),\n",
       " (6.0, [5]),\n",
       " (6.0, [0]),\n",
       " (6.0, [8]),\n",
       " (6.0, [2]),\n",
       " (6.0, [3]),\n",
       " (6.0, [6]),\n",
       " (7.0, [1]),\n",
       " (7.0, [6]),\n",
       " (7.0, [9]),\n",
       " (7.0, [8]),\n",
       " (7.0, [4]),\n",
       " (7.0, [5]),\n",
       " (7.0, [0]),\n",
       " (7.0, [2]),\n",
       " (7.0, [3]),\n",
       " (8.0, [3]),\n",
       " (8.0, [2]),\n",
       " (8.0, [6]),\n",
       " (8.0, [4]),\n",
       " (8.0, [0]),\n",
       " (8.0, [5]),\n",
       " (8.0, [1]),\n",
       " (8.0, [8]),\n",
       " (8.0, [9]),\n",
       " (9.0, [3]),\n",
       " (9.0, [1]),\n",
       " (9.0, [9])]"
      ]
     },
     "execution_count": 79,
     "metadata": {},
     "output_type": "execute_result"
    }
   ],
   "source": [
    "%%sql\n",
    "select distinct \n",
    "       quality, \n",
    "       predict_kmeans('models', \n",
    "                      'model_dump', \n",
    "                      'white_wine', \n",
    "                      array[[\n",
    "                        fixed_acidity, \n",
    "                        volatile_acidity, \n",
    "                        citric_acid, \n",
    "                        residual_sugar, \n",
    "                        chlorides, \n",
    "                        free_sulfur_dioxide, \n",
    "                        total_sulfur_dioxide, \n",
    "                        density, \n",
    "                        pH, \n",
    "                        sulphates, \n",
    "                        alcohol]]) \n",
    "  from white_wine \n",
    "  order by 1;"
   ]
  },
  {
   "cell_type": "code",
   "execution_count": 81,
   "metadata": {},
   "outputs": [
    {
     "name": "stdout",
     "output_type": "stream",
     "text": [
      " * postgresql://guedes@localhost:5435/guedes\n",
      "1 rows affected.\n"
     ]
    },
    {
     "data": {
      "text/html": [
       "<table>\n",
       "    <tr>\n",
       "        <th>get_kmeans_centroids</th>\n",
       "    </tr>\n",
       "    <tr>\n",
       "        <td>[[5.9016128, 2.748387, 4.3935485, 1.4338709], [5.006, 3.418, 1.464, 0.244], [6.85, 3.0736842, 5.7421055, 2.0710526]]</td>\n",
       "    </tr>\n",
       "</table>"
      ],
      "text/plain": [
       "[([[5.9016128, 2.748387, 4.3935485, 1.4338709], [5.006, 3.418, 1.464, 0.244], [6.85, 3.0736842, 5.7421055, 2.0710526]],)]"
      ]
     },
     "execution_count": 81,
     "metadata": {},
     "output_type": "execute_result"
    }
   ],
   "source": [
    "%%sql\n",
    "select get_kmeans_centroids('models', 'model_dump', 'iris');"
   ]
  },
  {
   "cell_type": "code",
   "execution_count": 82,
   "metadata": {},
   "outputs": [
    {
     "name": "stdout",
     "output_type": "stream",
     "text": [
      " * postgresql://guedes@localhost:5435/guedes\n",
      "1 rows affected.\n"
     ]
    },
    {
     "data": {
      "text/html": [
       "<table>\n",
       "    <tr>\n",
       "        <th>get_kmeans_centroids</th>\n",
       "    </tr>\n",
       "    <tr>\n",
       "        <td>[[7.0960503, 0.2944614, 0.3448833, 7.934829, 0.04933393, 30.989227, 162.24417, 0.99541, 3.182783, 0.49061042, 10.093118], [6.793891, 0.2750199, 0.31540504, 3.838247, 0.040480744, 22.570385, 93.05578, 0.99207354, 3.180478, 0.47573707, 11.2027445], [7.0259495, 0.3052057, 0.3664557, 10.537342, 0.05097785, 55.273735, 223.03798, 0.99702203, 3.163481, 0.51718354, 9.482279], [6.6880746, 0.25530434, 0.32159007, 5.135652, 0.041796274, 33.83851, 112.64534, 0.9927432, 3.200062, 0.48049688, 11.013975], [6.8208556, 0.2674198, 0.36850268, 9.183422, 0.052326202, 62.132355, 173.53476, 0.9958739, 3.1860428, 0.51657754, 9.822059], [6.716775, 0.25440842, 0.33612642, 7.1314425, 0.046358187, 47.663696, 143.26581, 0.99422836, 3.2063534, 0.48265803, 10.462399], [6.9714284, 0.29894456, 0.3428998, 8.513006, 0.051936034, 41.86034, 190.97868, 0.9959363, 3.1907036, 0.51, 9.78678], [7.357143, 0.365, 0.28142858, 5.0857143, 0.055714287, 123.85714, 335.14285, 0.99537283, 3.2757144, 0.5757143, 10.214286], [6.892759, 0.28117242, 0.31879312, 3.0606897, 0.039575864, 13.581035, 62.993103, 0.99180406, 3.1655173, 0.46448275, 11.1745405], [6.8832393, 0.29361972, 0.32695776, 5.325, 0.04518169, 23.79155, 130.43661, 0.99362445, 3.1907606, 0.4910141, 10.630747]]</td>\n",
       "    </tr>\n",
       "</table>"
      ],
      "text/plain": [
       "[([[7.0960503, 0.2944614, 0.3448833, 7.934829, 0.04933393, 30.989227, 162.24417, 0.99541, 3.182783, 0.49061042, 10.093118], [6.793891, 0.2750199, 0.3154 ... (938 characters truncated) ... 73, 0.46448275, 11.1745405], [6.8832393, 0.29361972, 0.32695776, 5.325, 0.04518169, 23.79155, 130.43661, 0.99362445, 3.1907606, 0.4910141, 10.630747]],)]"
      ]
     },
     "execution_count": 82,
     "metadata": {},
     "output_type": "execute_result"
    }
   ],
   "source": [
    "%%sql\n",
    "select get_kmeans_centroids('models', 'model_dump', 'white_wine');"
   ]
  }
 ],
 "metadata": {
  "kernelspec": {
   "display_name": "Python 3.9.13 ('ml')",
   "language": "python",
   "name": "python3"
  },
  "language_info": {
   "codemirror_mode": {
    "name": "ipython",
    "version": 3
   },
   "file_extension": ".py",
   "mimetype": "text/x-python",
   "name": "python",
   "nbconvert_exporter": "python",
   "pygments_lexer": "ipython3",
   "version": "3.9.13"
  },
  "orig_nbformat": 4,
  "vscode": {
   "interpreter": {
    "hash": "4815cae86a427d51d3f743a1e116b33b031ff2801847cae67e49f19e0d7a6358"
   }
  }
 },
 "nbformat": 4,
 "nbformat_minor": 2
}
