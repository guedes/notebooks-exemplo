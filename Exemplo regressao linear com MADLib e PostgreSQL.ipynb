{
 "cells": [
  {
   "cell_type": "markdown",
   "metadata": {},
   "source": [
    "# Regressão linear\n",
    "\n",
    "Este notebook foi demonstrado na palestra *Machine Learning com PostgreSQL - O Elefante vidente*, apresentada no *DBA Brasil 3.0*."
   ]
  },
  {
   "cell_type": "markdown",
   "metadata": {},
   "source": [
    "<img src=linear-regression01.gif />"
   ]
  },
  {
   "cell_type": "code",
   "execution_count": 3,
   "metadata": {},
   "outputs": [],
   "source": [
    "%reload_ext sql\n",
    "#%config SqlMagic.feedback=False\n",
    "#%config SqlMagic.autopandas=True"
   ]
  },
  {
   "cell_type": "code",
   "execution_count": 4,
   "metadata": {},
   "outputs": [
    {
     "data": {
      "text/plain": [
       "'Connected: guedes@guedes'"
      ]
     },
     "execution_count": 4,
     "metadata": {},
     "output_type": "execute_result"
    }
   ],
   "source": [
    "%sql postgresql://guedes@:5434/guedes"
   ]
  },
  {
   "cell_type": "code",
   "execution_count": 5,
   "metadata": {},
   "outputs": [
    {
     "name": "stdout",
     "output_type": "stream",
     "text": [
      " * postgresql://guedes@:5434/guedes\n",
      "1 rows affected.\n"
     ]
    },
    {
     "data": {
      "text/html": [
       "<table>\n",
       "    <tr>\n",
       "        <th>version</th>\n",
       "    </tr>\n",
       "    <tr>\n",
       "        <td>MADlib version: 1.14, git revision: unknown, cmake configuration time: sáb mai  5 00:37:44 UTC 2018, build type: RelWithDebInfo, build system: Linux-3.16.0-4-amd64, C compiler: gcc 4.9.2, C++ compiler: g++ 4.9.2</td>\n",
       "    </tr>\n",
       "</table>"
      ],
      "text/plain": [
       "[('MADlib version: 1.14, git revision: unknown, cmake configuration time: sáb mai  5 00:37:44 UTC 2018, build type: RelWithDebInfo, build system: Linux-3.16.0-4-amd64, C compiler: gcc 4.9.2, C++ compiler: g++ 4.9.2',)]"
      ]
     },
     "execution_count": 5,
     "metadata": {},
     "output_type": "execute_result"
    }
   ],
   "source": [
    "%%sql \n",
    "select madlib.version();"
   ]
  },
  {
   "cell_type": "markdown",
   "metadata": {},
   "source": [
    "# I. Carregar os dados"
   ]
  },
  {
   "cell_type": "markdown",
   "metadata": {},
   "source": [
    "## Método clássico"
   ]
  },
  {
   "cell_type": "markdown",
   "metadata": {},
   "source": [
    "Cria-se a estrutura de tabelas que vão receber os dados, isto se já não existirem, o que facilita."
   ]
  },
  {
   "cell_type": "code",
   "execution_count": 6,
   "metadata": {},
   "outputs": [
    {
     "name": "stdout",
     "output_type": "stream",
     "text": [
      " * postgresql://guedes@:5434/guedes\n",
      "Done.\n",
      "Done.\n"
     ]
    },
    {
     "data": {
      "text/plain": [
       "[]"
      ]
     },
     "execution_count": 6,
     "metadata": {},
     "output_type": "execute_result"
    }
   ],
   "source": [
    "%%sql \n",
    "DROP TABLE IF EXISTS casas;\n",
    "\n",
    "CREATE TABLE casas (\n",
    "    id INT,\n",
    "    taxas INT,\n",
    "    quartos INT,\n",
    "    banheiros FLOAT,\n",
    "    preco INT,\n",
    "    tamanho INT,\n",
    "    lote INT\n",
    ");"
   ]
  },
  {
   "cell_type": "markdown",
   "metadata": {},
   "source": [
    "Carregamos então os dados nas tabelas, neste exemplo no formato de `INSERT`, mas poderia ser via `COPY` que é um método que o Postgres tem de carregar uma grande quantidade de dados de modo bem performatico."
   ]
  },
  {
   "cell_type": "code",
   "execution_count": 8,
   "metadata": {},
   "outputs": [
    {
     "name": "stdout",
     "output_type": "stream",
     "text": [
      " * postgresql://guedes@:5434/guedes\n",
      "15 rows affected.\n"
     ]
    },
    {
     "data": {
      "text/plain": [
       "[]"
      ]
     },
     "execution_count": 8,
     "metadata": {},
     "output_type": "execute_result"
    }
   ],
   "source": [
    "%%sql\n",
    "INSERT INTO casas VALUES   \n",
    "  (1 ,  590 ,       2 ,    1 ,  50000 ,  770 , 22100),\n",
    "  (2 , 1050 ,       3 ,    2 ,  85000 , 1410 , 12000),\n",
    "  (3 ,   20 ,       3 ,    1 ,  22500 , 1060 ,  3500),\n",
    "  (4 ,  870 ,       2 ,    2 ,  90000 , 1300 , 17500),\n",
    "  (5 , 1320 ,       3 ,    2 , 133000 , 1500 , 30000),\n",
    "  (6 , 1350 ,       2 ,    1 ,  90500 ,  820 , 25700),\n",
    "  (7 , 2790 ,       3 ,  2.5 , 260000 , 2130 , 25000),\n",
    "  (8 ,  680 ,       2 ,    1 , 142500 , 1170 , 22000),\n",
    "  (9 , 1840 ,       3 ,    2 , 160000 , 1500 , 19000),\n",
    " (10 , 3680 ,       4 ,    2 , 240000 , 2790 , 20000),\n",
    " (11 , 1660 ,       3 ,    1 ,  87000 , 1030 , 17500),\n",
    " (12 , 1620 ,       3 ,    2 , 118600 , 1250 , 20000),\n",
    " (13 , 3100 ,       3 ,    2 , 140000 , 1760 , 38000),\n",
    " (14 , 2070 ,       2 ,    3 , 148000 , 1550 , 14000),\n",
    " (15 ,  650 ,       3 ,  1.5 ,  65000 , 1450 , 12000);"
   ]
  },
  {
   "cell_type": "markdown",
   "metadata": {},
   "source": [
    "E verificamos se a carga ocorreu com sucesso, conforme:"
   ]
  },
  {
   "cell_type": "code",
   "execution_count": 10,
   "metadata": {},
   "outputs": [
    {
     "name": "stdout",
     "output_type": "stream",
     "text": [
      " * postgresql://guedes@:5434/guedes\n",
      "15 rows affected.\n"
     ]
    },
    {
     "data": {
      "text/html": [
       "<table>\n",
       "    <tr>\n",
       "        <th>id</th>\n",
       "        <th>taxas</th>\n",
       "        <th>quartos</th>\n",
       "        <th>banheiros</th>\n",
       "        <th>preco</th>\n",
       "        <th>tamanho</th>\n",
       "        <th>lote</th>\n",
       "    </tr>\n",
       "    <tr>\n",
       "        <td>1</td>\n",
       "        <td>590</td>\n",
       "        <td>2</td>\n",
       "        <td>1.0</td>\n",
       "        <td>50000</td>\n",
       "        <td>770</td>\n",
       "        <td>22100</td>\n",
       "    </tr>\n",
       "    <tr>\n",
       "        <td>2</td>\n",
       "        <td>1050</td>\n",
       "        <td>3</td>\n",
       "        <td>2.0</td>\n",
       "        <td>85000</td>\n",
       "        <td>1410</td>\n",
       "        <td>12000</td>\n",
       "    </tr>\n",
       "    <tr>\n",
       "        <td>3</td>\n",
       "        <td>20</td>\n",
       "        <td>3</td>\n",
       "        <td>1.0</td>\n",
       "        <td>22500</td>\n",
       "        <td>1060</td>\n",
       "        <td>3500</td>\n",
       "    </tr>\n",
       "    <tr>\n",
       "        <td>4</td>\n",
       "        <td>870</td>\n",
       "        <td>2</td>\n",
       "        <td>2.0</td>\n",
       "        <td>90000</td>\n",
       "        <td>1300</td>\n",
       "        <td>17500</td>\n",
       "    </tr>\n",
       "    <tr>\n",
       "        <td>5</td>\n",
       "        <td>1320</td>\n",
       "        <td>3</td>\n",
       "        <td>2.0</td>\n",
       "        <td>133000</td>\n",
       "        <td>1500</td>\n",
       "        <td>30000</td>\n",
       "    </tr>\n",
       "    <tr>\n",
       "        <td>6</td>\n",
       "        <td>1350</td>\n",
       "        <td>2</td>\n",
       "        <td>1.0</td>\n",
       "        <td>90500</td>\n",
       "        <td>820</td>\n",
       "        <td>25700</td>\n",
       "    </tr>\n",
       "    <tr>\n",
       "        <td>7</td>\n",
       "        <td>2790</td>\n",
       "        <td>3</td>\n",
       "        <td>2.5</td>\n",
       "        <td>260000</td>\n",
       "        <td>2130</td>\n",
       "        <td>25000</td>\n",
       "    </tr>\n",
       "    <tr>\n",
       "        <td>8</td>\n",
       "        <td>680</td>\n",
       "        <td>2</td>\n",
       "        <td>1.0</td>\n",
       "        <td>142500</td>\n",
       "        <td>1170</td>\n",
       "        <td>22000</td>\n",
       "    </tr>\n",
       "    <tr>\n",
       "        <td>9</td>\n",
       "        <td>1840</td>\n",
       "        <td>3</td>\n",
       "        <td>2.0</td>\n",
       "        <td>160000</td>\n",
       "        <td>1500</td>\n",
       "        <td>19000</td>\n",
       "    </tr>\n",
       "    <tr>\n",
       "        <td>10</td>\n",
       "        <td>3680</td>\n",
       "        <td>4</td>\n",
       "        <td>2.0</td>\n",
       "        <td>240000</td>\n",
       "        <td>2790</td>\n",
       "        <td>20000</td>\n",
       "    </tr>\n",
       "    <tr>\n",
       "        <td>11</td>\n",
       "        <td>1660</td>\n",
       "        <td>3</td>\n",
       "        <td>1.0</td>\n",
       "        <td>87000</td>\n",
       "        <td>1030</td>\n",
       "        <td>17500</td>\n",
       "    </tr>\n",
       "    <tr>\n",
       "        <td>12</td>\n",
       "        <td>1620</td>\n",
       "        <td>3</td>\n",
       "        <td>2.0</td>\n",
       "        <td>118600</td>\n",
       "        <td>1250</td>\n",
       "        <td>20000</td>\n",
       "    </tr>\n",
       "    <tr>\n",
       "        <td>13</td>\n",
       "        <td>3100</td>\n",
       "        <td>3</td>\n",
       "        <td>2.0</td>\n",
       "        <td>140000</td>\n",
       "        <td>1760</td>\n",
       "        <td>38000</td>\n",
       "    </tr>\n",
       "    <tr>\n",
       "        <td>14</td>\n",
       "        <td>2070</td>\n",
       "        <td>2</td>\n",
       "        <td>3.0</td>\n",
       "        <td>148000</td>\n",
       "        <td>1550</td>\n",
       "        <td>14000</td>\n",
       "    </tr>\n",
       "    <tr>\n",
       "        <td>15</td>\n",
       "        <td>650</td>\n",
       "        <td>3</td>\n",
       "        <td>1.5</td>\n",
       "        <td>65000</td>\n",
       "        <td>1450</td>\n",
       "        <td>12000</td>\n",
       "    </tr>\n",
       "</table>"
      ],
      "text/plain": [
       "[(1, 590, 2, 1.0, 50000, 770, 22100),\n",
       " (2, 1050, 3, 2.0, 85000, 1410, 12000),\n",
       " (3, 20, 3, 1.0, 22500, 1060, 3500),\n",
       " (4, 870, 2, 2.0, 90000, 1300, 17500),\n",
       " (5, 1320, 3, 2.0, 133000, 1500, 30000),\n",
       " (6, 1350, 2, 1.0, 90500, 820, 25700),\n",
       " (7, 2790, 3, 2.5, 260000, 2130, 25000),\n",
       " (8, 680, 2, 1.0, 142500, 1170, 22000),\n",
       " (9, 1840, 3, 2.0, 160000, 1500, 19000),\n",
       " (10, 3680, 4, 2.0, 240000, 2790, 20000),\n",
       " (11, 1660, 3, 1.0, 87000, 1030, 17500),\n",
       " (12, 1620, 3, 2.0, 118600, 1250, 20000),\n",
       " (13, 3100, 3, 2.0, 140000, 1760, 38000),\n",
       " (14, 2070, 2, 3.0, 148000, 1550, 14000),\n",
       " (15, 650, 3, 1.5, 65000, 1450, 12000)]"
      ]
     },
     "execution_count": 10,
     "metadata": {},
     "output_type": "execute_result"
    }
   ],
   "source": [
    "%sql SELECT * FROM casas ORDER BY id;"
   ]
  },
  {
   "cell_type": "markdown",
   "metadata": {},
   "source": [
    "## Com dados federados\n",
    "\n",
    "No Postgres é possivel criar uma tabela \"virtual\" que é uma intermediaria para você consultar fontes de dados externas, por exemplo você não precisaria carregar os dados, voce poderia ler de um arquivo numa pasta compartilhada, por exemplo. Voce poderia ler dados de um outro banco Postgres, ou ainda outros bancos como MySQL, SQLServer, por exemplo.\n",
    "\n",
    "Abaixo tem um exemplo de como criar uma tabela deste tipo, conhecida como `FOREIGN TABLE`, onde supõem-se que exista uma pasta compartilhada onde arquivos `CSV` de pacientes são gerados por uma aplicação, então é possivel criar uma `FOREIGN TABLE` dentro do banco que aponta para esta tabela, conforme o exemplo abaixo:"
   ]
  },
  {
   "cell_type": "code",
   "execution_count": null,
   "metadata": {},
   "outputs": [],
   "source": [
    "%%sql postgresql://postgres@:5434/guedes\n",
    "\n",
    "CREATE EXTENSION IF NOT EXISTS file_fdw;\n",
    "\n",
    "CREATE SERVER IF NOT EXISTS file_server FOREIGN DATA WRAPPER file_fdw;\n",
    "\n",
    "GRANT USAGE ON FOREIGN SERVER file_server TO guedes;\n",
    "GRANT USAGE ON FOREIGN DATA WRAPPER file_fdw TO guedes;\n"
   ]
  },
  {
   "cell_type": "code",
   "execution_count": null,
   "metadata": {},
   "outputs": [],
   "source": [
    "%sql postgresql://guedes@:5434/guedes"
   ]
  },
  {
   "cell_type": "code",
   "execution_count": null,
   "metadata": {},
   "outputs": [],
   "source": [
    "CREATE FOREIGN TABLE IF NOT EXISTS pacientes \n",
    "(\n",
    "  id INTEGER NOT NULL,\n",
    "  segundo_ataque INTEGER,\n",
    "  tratamento INTEGER,\n",
    "  traco_anciedade INTEGER\n",
    ") SERVER file_server\n",
    "OPTIONS ( filename '/shared/pacientes.csv', format 'csv' );"
   ]
  },
  {
   "cell_type": "markdown",
   "metadata": {},
   "source": [
    "A tabela acima é criada uma única vez, mas o arquivo `pacientes.csv` pode ser alterado sempre, e a cada `SELECT` feito na tabela os dados retornados são do arquivo."
   ]
  },
  {
   "cell_type": "markdown",
   "metadata": {},
   "source": [
    "# II. Treinar o modelo de regressão\n",
    "\n",
    "Geramos inicialmente uma simples regressão para todos os dados."
   ]
  },
  {
   "cell_type": "code",
   "execution_count": 15,
   "metadata": {},
   "outputs": [
    {
     "name": "stdout",
     "output_type": "stream",
     "text": [
      " * postgresql://guedes@:5434/guedes\n",
      "Done.\n",
      "1 rows affected.\n"
     ]
    },
    {
     "data": {
      "text/html": [
       "<table>\n",
       "    <tr>\n",
       "        <th>linregr_train</th>\n",
       "    </tr>\n",
       "    <tr>\n",
       "        <td></td>\n",
       "    </tr>\n",
       "</table>"
      ],
      "text/plain": [
       "[('',)]"
      ]
     },
     "execution_count": 15,
     "metadata": {},
     "output_type": "execute_result"
    }
   ],
   "source": [
    "%%sql\n",
    "DROP TABLE IF EXISTS casas_linregr, casass_linregr_summary;\n",
    "\n",
    "SELECT madlib.linregr_train( 'casas',\n",
    "                             'casas_linregr',\n",
    "                             'preco',\n",
    "                             'ARRAY[1, taxas, quartos, tamanho]'\n",
    "                           );"
   ]
  },
  {
   "cell_type": "markdown",
   "metadata": {},
   "source": [
    "E só por curiosidade, podemos ver o que o modelo gerou internamente, um simples `SELECT` permite isto."
   ]
  },
  {
   "cell_type": "code",
   "execution_count": 16,
   "metadata": {},
   "outputs": [
    {
     "name": "stdout",
     "output_type": "stream",
     "text": [
      " * postgresql://guedes@:5434/guedes\n",
      "1 rows affected.\n"
     ]
    },
    {
     "data": {
      "text/html": [
       "<table>\n",
       "    <tr>\n",
       "        <th>method</th>\n",
       "        <th>source_table</th>\n",
       "        <th>out_table</th>\n",
       "        <th>dependent_varname</th>\n",
       "        <th>independent_varname</th>\n",
       "        <th>num_rows_processed</th>\n",
       "        <th>num_missing_rows_skipped</th>\n",
       "        <th>grouping_col</th>\n",
       "    </tr>\n",
       "    <tr>\n",
       "        <td>linregr</td>\n",
       "        <td>casas</td>\n",
       "        <td>casas_linregr</td>\n",
       "        <td>preco</td>\n",
       "        <td>ARRAY[1, taxas, quartos, tamanho]</td>\n",
       "        <td>15</td>\n",
       "        <td>0</td>\n",
       "        <td>None</td>\n",
       "    </tr>\n",
       "</table>"
      ],
      "text/plain": [
       "[('linregr', 'casas', 'casas_linregr', 'preco', 'ARRAY[1, taxas, quartos, tamanho]', 15, 0, None)]"
      ]
     },
     "execution_count": 16,
     "metadata": {},
     "output_type": "execute_result"
    }
   ],
   "source": [
    "%sql SELECT * FROM casas_linregr_summary;"
   ]
  },
  {
   "cell_type": "markdown",
   "metadata": {},
   "source": [
    "# III. Treinar o modelo agrupando\n",
    "\n",
    "Agora geramos três modelos, um para cada valor de \"bedroom\"."
   ]
  },
  {
   "cell_type": "code",
   "execution_count": 19,
   "metadata": {},
   "outputs": [
    {
     "name": "stdout",
     "output_type": "stream",
     "text": [
      " * postgresql://guedes@:5434/guedes\n",
      "Done.\n",
      "1 rows affected.\n"
     ]
    },
    {
     "data": {
      "text/html": [
       "<table>\n",
       "    <tr>\n",
       "        <th>linregr_train</th>\n",
       "    </tr>\n",
       "    <tr>\n",
       "        <td></td>\n",
       "    </tr>\n",
       "</table>"
      ],
      "text/plain": [
       "[('',)]"
      ]
     },
     "execution_count": 19,
     "metadata": {},
     "output_type": "execute_result"
    }
   ],
   "source": [
    "%%sql \n",
    "DROP TABLE IF EXISTS casas_linregr_bedroom, casas_linregr_bedroom_summary;\n",
    "\n",
    "SELECT madlib.linregr_train( 'casas',\n",
    "                             'casas_linregr_quartos',\n",
    "                             'preco',\n",
    "                             'ARRAY[1, taxas, banheiros, tamanho]',\n",
    "                             'quartos'\n",
    "                           );"
   ]
  },
  {
   "cell_type": "markdown",
   "metadata": {},
   "source": [
    "E só por curiosidade, podemos ver o que o modelo gerou internamente, um simples `SELECT` permite isto."
   ]
  },
  {
   "cell_type": "code",
   "execution_count": 21,
   "metadata": {},
   "outputs": [
    {
     "name": "stdout",
     "output_type": "stream",
     "text": [
      " * postgresql://guedes@:5434/guedes\n",
      "1 rows affected.\n"
     ]
    },
    {
     "data": {
      "text/html": [
       "<table>\n",
       "    <tr>\n",
       "        <th>method</th>\n",
       "        <th>source_table</th>\n",
       "        <th>out_table</th>\n",
       "        <th>dependent_varname</th>\n",
       "        <th>independent_varname</th>\n",
       "        <th>num_rows_processed</th>\n",
       "        <th>num_missing_rows_skipped</th>\n",
       "        <th>grouping_col</th>\n",
       "    </tr>\n",
       "    <tr>\n",
       "        <td>linregr</td>\n",
       "        <td>casas</td>\n",
       "        <td>casas_linregr_quartos</td>\n",
       "        <td>preco</td>\n",
       "        <td>ARRAY[1, taxas, banheiros, tamanho]</td>\n",
       "        <td>15</td>\n",
       "        <td>0</td>\n",
       "        <td>quartos</td>\n",
       "    </tr>\n",
       "</table>"
      ],
      "text/plain": [
       "[('linregr', 'casas', 'casas_linregr_quartos', 'preco', 'ARRAY[1, taxas, banheiros, tamanho]', 15, 0, 'quartos')]"
      ]
     },
     "execution_count": 21,
     "metadata": {},
     "output_type": "execute_result"
    }
   ],
   "source": [
    "%sql SELECT * FROM casas_linregr_quartos_summary;"
   ]
  },
  {
   "cell_type": "markdown",
   "metadata": {},
   "source": [
    "# Revisando o modelo"
   ]
  },
  {
   "cell_type": "code",
   "execution_count": 22,
   "metadata": {},
   "outputs": [
    {
     "name": "stdout",
     "output_type": "stream",
     "text": [
      " * postgresql://guedes@:5434/guedes\n",
      "1 rows affected.\n"
     ]
    },
    {
     "data": {
      "text/html": [
       "<table>\n",
       "    <tr>\n",
       "        <th>coef</th>\n",
       "        <th>r2</th>\n",
       "        <th>std_err</th>\n",
       "        <th>t_stats</th>\n",
       "        <th>p_values</th>\n",
       "        <th>condition_no</th>\n",
       "        <th>num_rows_processed</th>\n",
       "        <th>num_missing_rows_skipped</th>\n",
       "        <th>variance_covariance</th>\n",
       "    </tr>\n",
       "    <tr>\n",
       "        <td>[46312.6200010278, 28.0425364522844, -33109.6856122436, 85.7048457939907]</td>\n",
       "        <td>0.811542286900626</td>\n",
       "        <td>[40885.2454316108, 14.2433210730307, 19630.7062616626, 33.1022531471885]</td>\n",
       "        <td>[1.13274653269467, 1.96882007422988, -1.6866273261347, 2.58909402368793]</td>\n",
       "        <td>[0.28140758903869, 0.0746820465710941, 0.119794838361139, 0.0251788501326571]</td>\n",
       "        <td>12500.8979304987</td>\n",
       "        <td>15</td>\n",
       "        <td>0</td>\n",
       "        <td>[[1671603294.00305, 109751.042885517, -599718662.85672, -94576.2352907573], [109751.042885517, 202.872195189441, 25239.3991399221, -344.624217495655], [-599718662.85672, 25239.3991399221, 385364628.331677, -343973.728465182], [-94576.2352907572, -344.624217495655, -343973.728465182, 1095.75916342055]]</td>\n",
       "    </tr>\n",
       "</table>"
      ],
      "text/plain": [
       "[([46312.6200010278, 28.0425364522844, -33109.6856122436, 85.7048457939907], 0.811542286900626, [40885.2454316108, 14.2433210730307, 19630.7062616626, 33.1022531471885], [1.13274653269467, 1.96882007422988, -1.6866273261347, 2.58909402368793], [0.28140758903869, 0.0746820465710941, 0.119794838361139, 0.0251788501326571], 12500.8979304987, 15, 0, [[1671603294.00305, 109751.042885517, -599718662.85672, -94576.2352907573], [109751.042885517, 202.872195189441, 25239.3991399221, -344.624217495655], ... (2 characters truncated) ... -599718662.85672, 25239.3991399221, 385364628.331677, -343973.728465182], [-94576.2352907572, -344.624217495655, -343973.728465182, 1095.75916342055]])]"
      ]
     },
     "execution_count": 22,
     "metadata": {},
     "output_type": "execute_result"
    }
   ],
   "source": [
    "%%sql\n",
    "SELECT * FROM casas_linregr;"
   ]
  },
  {
   "cell_type": "markdown",
   "metadata": {},
   "source": [
    "Como os valores de algumas colunas estão como `array`, no Postgres temos o `unnest`, que permite ver os resultados um pouco melhor."
   ]
  },
  {
   "cell_type": "code",
   "execution_count": 23,
   "metadata": {},
   "outputs": [
    {
     "name": "stdout",
     "output_type": "stream",
     "text": [
      " * postgresql://guedes@:5434/guedes\n",
      "4 rows affected.\n"
     ]
    },
    {
     "data": {
      "text/html": [
       "<table>\n",
       "    <tr>\n",
       "        <th>attribute</th>\n",
       "        <th>coefficient</th>\n",
       "        <th>standard_error</th>\n",
       "        <th>t_stat</th>\n",
       "        <th>pvalue</th>\n",
       "    </tr>\n",
       "    <tr>\n",
       "        <td>intercept</td>\n",
       "        <td>-12849.4168959872</td>\n",
       "        <td>33453.0344331377</td>\n",
       "        <td>-0.384103179688204</td>\n",
       "        <td>0.708223134615411</td>\n",
       "    </tr>\n",
       "    <tr>\n",
       "        <td>taxas</td>\n",
       "        <td>28.9613922651775</td>\n",
       "        <td>15.8992104963991</td>\n",
       "        <td>1.82156166004197</td>\n",
       "        <td>0.0958005827189556</td>\n",
       "    </tr>\n",
       "    <tr>\n",
       "        <td>banheiros</td>\n",
       "        <td>10181.6290712649</td>\n",
       "        <td>19437.7710925915</td>\n",
       "        <td>0.523806408809163</td>\n",
       "        <td>0.610804093526516</td>\n",
       "    </tr>\n",
       "    <tr>\n",
       "        <td>tamanho</td>\n",
       "        <td>50.516894915353</td>\n",
       "        <td>32.9280231740856</td>\n",
       "        <td>1.53416118083608</td>\n",
       "        <td>0.153235085548177</td>\n",
       "    </tr>\n",
       "</table>"
      ],
      "text/plain": [
       "[('intercept', -12849.4168959872, 33453.0344331377, -0.384103179688204, 0.708223134615411),\n",
       " ('taxas', 28.9613922651775, 15.8992104963991, 1.82156166004197, 0.0958005827189556),\n",
       " ('banheiros', 10181.6290712649, 19437.7710925915, 0.523806408809163, 0.610804093526516),\n",
       " ('tamanho', 50.516894915353, 32.9280231740856, 1.53416118083608, 0.153235085548177)]"
      ]
     },
     "execution_count": 23,
     "metadata": {},
     "output_type": "execute_result"
    }
   ],
   "source": [
    "%%sql\n",
    "SELECT unnest(ARRAY['intercept','taxas','banheiros','tamanho']) as attribute,\n",
    "       unnest(coef) as coefficient,\n",
    "       unnest(std_err) as standard_error,\n",
    "       unnest(t_stats) as t_stat,\n",
    "       unnest(p_values) as pvalue\n",
    "FROM houses_linregr;"
   ]
  },
  {
   "cell_type": "markdown",
   "metadata": {
    "collapsed": true
   },
   "source": [
    "# Revisando o modelo com agrupamento"
   ]
  },
  {
   "cell_type": "code",
   "execution_count": 24,
   "metadata": {},
   "outputs": [
    {
     "name": "stdout",
     "output_type": "stream",
     "text": [
      " * postgresql://guedes@:5434/guedes\n",
      "3 rows affected.\n"
     ]
    },
    {
     "data": {
      "text/html": [
       "<table>\n",
       "    <tr>\n",
       "        <th>quartos</th>\n",
       "        <th>coef</th>\n",
       "        <th>r2</th>\n",
       "        <th>std_err</th>\n",
       "        <th>t_stats</th>\n",
       "        <th>p_values</th>\n",
       "        <th>condition_no</th>\n",
       "        <th>num_rows_processed</th>\n",
       "        <th>num_missing_rows_skipped</th>\n",
       "        <th>variance_covariance</th>\n",
       "    </tr>\n",
       "    <tr>\n",
       "        <td>2</td>\n",
       "        <td>[-84242.0345406619, 55.4430144648689, -78966.9753675336, 225.611910021196]</td>\n",
       "        <td>0.968809546465205</td>\n",
       "        <td>[35018.999166635, 19.5731125321026, 23036.8071292953, 49.0448678149636]</td>\n",
       "        <td>[-2.40560942760823, 2.83261103076655, -3.42786111479457, 4.60011251069906]</td>\n",
       "        <td>[0.250804617665626, 0.21605133377637, 0.180704400437667, 0.136272031474349]</td>\n",
       "        <td>10086.1048720296</td>\n",
       "        <td>5</td>\n",
       "        <td>0</td>\n",
       "        <td>[[1226330302.63279, -300921.595597853, 551696673.399771, -1544160.63236657], [-300921.595597853, 383.106734194352, -304863.397298569, 323.251642470093], [551696673.399771, -304863.397298569, 530694482.712349, -946345.586402424], [-1544160.63236657, 323.251642470093, -946345.586402424, 2405.39905898726]]</td>\n",
       "    </tr>\n",
       "    <tr>\n",
       "        <td>3</td>\n",
       "        <td>[-88155.8292501588, 27.1966436294421, 41404.0293363614, 62.6375210753234]</td>\n",
       "        <td>0.841699901311221</td>\n",
       "        <td>[57867.9999702679, 17.8272309154706, 43643.1321511158, 70.8506824864022]</td>\n",
       "        <td>[-1.52339512848988, 1.52556747362489, 0.948695185143874, 0.884077878675973]</td>\n",
       "        <td>[0.188161432894911, 0.187636685729916, 0.38634003237497, 0.417132778705835]</td>\n",
       "        <td>11722.6225642065</td>\n",
       "        <td>9</td>\n",
       "        <td>0</td>\n",
       "        <td>[[3348705420.55893, 433697.545104307, -70253017.4577515, -2593488.13800241], [433697.545104307, 317.810162113512, -90019.0797451145, -529.274668274391], [-70253017.4577515, -90019.0797451147, 1904722983.95976, -2183233.19448568], [-2593488.13800241, -529.27466827439, -2183233.19448568, 5019.81920878898]]</td>\n",
       "    </tr>\n",
       "    <tr>\n",
       "        <td>4</td>\n",
       "        <td>[0.0112536020318378, 41.4132554771633, 0.0225072040636757, 31.3975496688276]</td>\n",
       "        <td>1.0</td>\n",
       "        <td>[0.0, 0.0, 0.0, 0.0]</td>\n",
       "        <td>[inf, inf, inf, inf]</td>\n",
       "        <td>None</td>\n",
       "        <td>inf</td>\n",
       "        <td>1</td>\n",
       "        <td>0</td>\n",
       "        <td>[[0.0, 0.0, 0.0, 0.0], [0.0, 0.0, 0.0, 0.0], [0.0, 0.0, 0.0, 0.0], [0.0, 0.0, 0.0, 0.0]]</td>\n",
       "    </tr>\n",
       "</table>"
      ],
      "text/plain": [
       "[(2, [-84242.0345406619, 55.4430144648689, -78966.9753675336, 225.611910021196], 0.968809546465205, [35018.999166635, 19.5731125321026, 23036.8071292953, 49.0448678149636], [-2.40560942760823, 2.83261103076655, -3.42786111479457, 4.60011251069906], [0.250804617665626, 0.21605133377637, 0.180704400437667, 0.136272031474349], 10086.1048720296, 5, 0, [[1226330302.63279, -300921.595597853, 551696673.399771, -1544160.63236657], [-300921.595597853, 383.106734194352, -304863.397298569, 323.251642470093 ... (4 characters truncated) ... 551696673.399771, -304863.397298569, 530694482.712349, -946345.586402424], [-1544160.63236657, 323.251642470093, -946345.586402424, 2405.39905898726]]),\n",
       " (3, [-88155.8292501588, 27.1966436294421, 41404.0293363614, 62.6375210753234], 0.841699901311221, [57867.9999702679, 17.8272309154706, 43643.1321511158, 70.8506824864022], [-1.52339512848988, 1.52556747362489, 0.948695185143874, 0.884077878675973], [0.188161432894911, 0.187636685729916, 0.38634003237497, 0.417132778705835], 11722.6225642065, 9, 0, [[3348705420.55893, 433697.545104307, -70253017.4577515, -2593488.13800241], [433697.545104307, 317.810162113512, -90019.0797451145, -529.274668274391 ... (5 characters truncated) ... 70253017.4577515, -90019.0797451147, 1904722983.95976, -2183233.19448568], [-2593488.13800241, -529.27466827439, -2183233.19448568, 5019.81920878898]]),\n",
       " (4, [0.0112536020318378, 41.4132554771633, 0.0225072040636757, 31.3975496688276], 1.0, [0.0, 0.0, 0.0, 0.0], [inf, inf, inf, inf], None, inf, 1, 0, [[0.0, 0.0, 0.0, 0.0], [0.0, 0.0, 0.0, 0.0], [0.0, 0.0, 0.0, 0.0], [0.0, 0.0, 0.0, 0.0]])]"
      ]
     },
     "execution_count": 24,
     "metadata": {},
     "output_type": "execute_result"
    }
   ],
   "source": [
    "%%sql\n",
    "SELECT * FROM casas_linregr_quartos ORDER BY quartos;"
   ]
  },
  {
   "cell_type": "markdown",
   "metadata": {},
   "source": [
    "Perceba que na coluna `r2`, quando o número de quartos é **4**, o seu valor é **1.0**, isso porque só existe **única ocorrência** de casa com 4 quartos, portanto o modelo não consegue criar um jeito de aprender, então ele \"decora\" aquele dado. Chamamos isto de *overfitting*."
   ]
  },
  {
   "cell_type": "markdown",
   "metadata": {},
   "source": [
    "# Prevendo\n",
    "\n",
    "Compare o preço previsto com o real, no caso em que não é usado o agrupamento. Ou seja, existe apenas um modelo de regressão para todos os dados. (Este exemplo usa a tabela de dados original para executar a previsão. Normalmente, um conjunto de dados de teste diferente com os mesmos recursos que o conjunto de dados de treinamento original seria usado para previsão.)"
   ]
  },
  {
   "cell_type": "code",
   "execution_count": 26,
   "metadata": {},
   "outputs": [
    {
     "name": "stdout",
     "output_type": "stream",
     "text": [
      " * postgresql://guedes@:5434/guedes\n",
      "15 rows affected.\n"
     ]
    },
    {
     "data": {
      "text/html": [
       "<table>\n",
       "    <tr>\n",
       "        <th>id</th>\n",
       "        <th>taxas</th>\n",
       "        <th>quartos</th>\n",
       "        <th>banheiros</th>\n",
       "        <th>preco</th>\n",
       "        <th>tamanho</th>\n",
       "        <th>lote</th>\n",
       "        <th>previsao</th>\n",
       "        <th>residual</th>\n",
       "    </tr>\n",
       "    <tr>\n",
       "        <td>1</td>\n",
       "        <td>590</td>\n",
       "        <td>2</td>\n",
       "        <td>1.0</td>\n",
       "        <td>50000</td>\n",
       "        <td>770</td>\n",
       "        <td>22100</td>\n",
       "        <td>95740.7621570049</td>\n",
       "        <td>-45740.7621570049</td>\n",
       "    </tr>\n",
       "    <tr>\n",
       "        <td>2</td>\n",
       "        <td>1050</td>\n",
       "        <td>3</td>\n",
       "        <td>2.0</td>\n",
       "        <td>85000</td>\n",
       "        <td>1410</td>\n",
       "        <td>12000</td>\n",
       "        <td>130381.744620966</td>\n",
       "        <td>-45381.7446209662</td>\n",
       "    </tr>\n",
       "    <tr>\n",
       "        <td>3</td>\n",
       "        <td>20</td>\n",
       "        <td>3</td>\n",
       "        <td>1.0</td>\n",
       "        <td>22500</td>\n",
       "        <td>1060</td>\n",
       "        <td>3500</td>\n",
       "        <td>104610.92165946</td>\n",
       "        <td>-82110.9216594601</td>\n",
       "    </tr>\n",
       "    <tr>\n",
       "        <td>4</td>\n",
       "        <td>870</td>\n",
       "        <td>2</td>\n",
       "        <td>2.0</td>\n",
       "        <td>90000</td>\n",
       "        <td>1300</td>\n",
       "        <td>17500</td>\n",
       "        <td>115906.555022216</td>\n",
       "        <td>-25906.555022216</td>\n",
       "    </tr>\n",
       "    <tr>\n",
       "        <td>5</td>\n",
       "        <td>1320</td>\n",
       "        <td>3</td>\n",
       "        <td>2.0</td>\n",
       "        <td>133000</td>\n",
       "        <td>1500</td>\n",
       "        <td>30000</td>\n",
       "        <td>145666.665584542</td>\n",
       "        <td>-12666.6655845421</td>\n",
       "    </tr>\n",
       "    <tr>\n",
       "        <td>6</td>\n",
       "        <td>1350</td>\n",
       "        <td>2</td>\n",
       "        <td>1.0</td>\n",
       "        <td>90500</td>\n",
       "        <td>820</td>\n",
       "        <td>25700</td>\n",
       "        <td>121338.332150441</td>\n",
       "        <td>-30838.3321504406</td>\n",
       "    </tr>\n",
       "    <tr>\n",
       "        <td>7</td>\n",
       "        <td>2790</td>\n",
       "        <td>3</td>\n",
       "        <td>2.5</td>\n",
       "        <td>260000</td>\n",
       "        <td>2130</td>\n",
       "        <td>25000</td>\n",
       "        <td>224328.404213493</td>\n",
       "        <td>35671.5957865074</td>\n",
       "    </tr>\n",
       "    <tr>\n",
       "        <td>8</td>\n",
       "        <td>680</td>\n",
       "        <td>2</td>\n",
       "        <td>1.0</td>\n",
       "        <td>142500</td>\n",
       "        <td>1170</td>\n",
       "        <td>22000</td>\n",
       "        <td>132546.528755307</td>\n",
       "        <td>9953.47124469327</td>\n",
       "    </tr>\n",
       "    <tr>\n",
       "        <td>9</td>\n",
       "        <td>1840</td>\n",
       "        <td>3</td>\n",
       "        <td>2.0</td>\n",
       "        <td>160000</td>\n",
       "        <td>1500</td>\n",
       "        <td>19000</td>\n",
       "        <td>160248.78453973</td>\n",
       "        <td>-248.784539730026</td>\n",
       "    </tr>\n",
       "    <tr>\n",
       "        <td>10</td>\n",
       "        <td>3680</td>\n",
       "        <td>4</td>\n",
       "        <td>2.0</td>\n",
       "        <td>240000</td>\n",
       "        <td>2790</td>\n",
       "        <td>20000</td>\n",
       "        <td>322406.302686181</td>\n",
       "        <td>-82406.3026861814</td>\n",
       "    </tr>\n",
       "    <tr>\n",
       "        <td>11</td>\n",
       "        <td>1660</td>\n",
       "        <td>3</td>\n",
       "        <td>1.0</td>\n",
       "        <td>87000</td>\n",
       "        <td>1030</td>\n",
       "        <td>17500</td>\n",
       "        <td>148029.536067387</td>\n",
       "        <td>-61029.5360673868</td>\n",
       "    </tr>\n",
       "    <tr>\n",
       "        <td>12</td>\n",
       "        <td>1620</td>\n",
       "        <td>3</td>\n",
       "        <td>2.0</td>\n",
       "        <td>118600</td>\n",
       "        <td>1250</td>\n",
       "        <td>20000</td>\n",
       "        <td>132653.21507173</td>\n",
       "        <td>-14053.2150717298</td>\n",
       "    </tr>\n",
       "    <tr>\n",
       "        <td>13</td>\n",
       "        <td>3100</td>\n",
       "        <td>3</td>\n",
       "        <td>2.0</td>\n",
       "        <td>140000</td>\n",
       "        <td>1760</td>\n",
       "        <td>38000</td>\n",
       "        <td>217865.640376046</td>\n",
       "        <td>-77865.640376046</td>\n",
       "    </tr>\n",
       "    <tr>\n",
       "        <td>14</td>\n",
       "        <td>2070</td>\n",
       "        <td>2</td>\n",
       "        <td>3.0</td>\n",
       "        <td>148000</td>\n",
       "        <td>1550</td>\n",
       "        <td>14000</td>\n",
       "        <td>137874.124601211</td>\n",
       "        <td>10125.8753987886</td>\n",
       "    </tr>\n",
       "    <tr>\n",
       "        <td>15</td>\n",
       "        <td>650</td>\n",
       "        <td>3</td>\n",
       "        <td>1.5</td>\n",
       "        <td>65000</td>\n",
       "        <td>1450</td>\n",
       "        <td>12000</td>\n",
       "        <td>139147.766677934</td>\n",
       "        <td>-74147.7666779338</td>\n",
       "    </tr>\n",
       "</table>"
      ],
      "text/plain": [
       "[(1, 590, 2, 1.0, 50000, 770, 22100, 95740.7621570049, -45740.7621570049),\n",
       " (2, 1050, 3, 2.0, 85000, 1410, 12000, 130381.744620966, -45381.7446209662),\n",
       " (3, 20, 3, 1.0, 22500, 1060, 3500, 104610.92165946, -82110.9216594601),\n",
       " (4, 870, 2, 2.0, 90000, 1300, 17500, 115906.555022216, -25906.555022216),\n",
       " (5, 1320, 3, 2.0, 133000, 1500, 30000, 145666.665584542, -12666.6655845421),\n",
       " (6, 1350, 2, 1.0, 90500, 820, 25700, 121338.332150441, -30838.3321504406),\n",
       " (7, 2790, 3, 2.5, 260000, 2130, 25000, 224328.404213493, 35671.5957865074),\n",
       " (8, 680, 2, 1.0, 142500, 1170, 22000, 132546.528755307, 9953.47124469327),\n",
       " (9, 1840, 3, 2.0, 160000, 1500, 19000, 160248.78453973, -248.784539730026),\n",
       " (10, 3680, 4, 2.0, 240000, 2790, 20000, 322406.302686181, -82406.3026861814),\n",
       " (11, 1660, 3, 1.0, 87000, 1030, 17500, 148029.536067387, -61029.5360673868),\n",
       " (12, 1620, 3, 2.0, 118600, 1250, 20000, 132653.21507173, -14053.2150717298),\n",
       " (13, 3100, 3, 2.0, 140000, 1760, 38000, 217865.640376046, -77865.640376046),\n",
       " (14, 2070, 2, 3.0, 148000, 1550, 14000, 137874.124601211, 10125.8753987886),\n",
       " (15, 650, 3, 1.5, 65000, 1450, 12000, 139147.766677934, -74147.7666779338)]"
      ]
     },
     "execution_count": 26,
     "metadata": {},
     "output_type": "execute_result"
    }
   ],
   "source": [
    "%%sql\n",
    "SELECT casas.*,\n",
    "\n",
    "       madlib.linregr_predict( m.coef, ARRAY[1,taxas, banheiros, tamanho] ) as previsao,\n",
    "    \n",
    "       preco - madlib.linregr_predict( m.coef, ARRAY[1, taxas, banheiros, tamanho]  ) as residual\n",
    "       \n",
    "FROM casas, casas_linregr m ORDER BY id;"
   ]
  },
  {
   "cell_type": "markdown",
   "metadata": {},
   "source": [
    "# Prevento com agrupamento\n",
    "\n",
    "Compare o preço previsto com o real com o agrupamento. Isso significa que um modelo diferente é usado dependendo do número de quartos."
   ]
  },
  {
   "cell_type": "code",
   "execution_count": 28,
   "metadata": {},
   "outputs": [
    {
     "name": "stdout",
     "output_type": "stream",
     "text": [
      " * postgresql://guedes@:5434/guedes\n",
      "15 rows affected.\n"
     ]
    },
    {
     "data": {
      "text/html": [
       "<table>\n",
       "    <tr>\n",
       "        <th>id</th>\n",
       "        <th>taxas</th>\n",
       "        <th>quartos</th>\n",
       "        <th>banheiros</th>\n",
       "        <th>preco</th>\n",
       "        <th>tamanho</th>\n",
       "        <th>lote</th>\n",
       "        <th>previsao</th>\n",
       "        <th>residual</th>\n",
       "    </tr>\n",
       "    <tr>\n",
       "        <td>1</td>\n",
       "        <td>590</td>\n",
       "        <td>2</td>\n",
       "        <td>1.0</td>\n",
       "        <td>50000</td>\n",
       "        <td>770</td>\n",
       "        <td>22100</td>\n",
       "        <td>43223.5393423978</td>\n",
       "        <td>6776.46065760222</td>\n",
       "    </tr>\n",
       "    <tr>\n",
       "        <td>2</td>\n",
       "        <td>1050</td>\n",
       "        <td>3</td>\n",
       "        <td>2.0</td>\n",
       "        <td>85000</td>\n",
       "        <td>1410</td>\n",
       "        <td>12000</td>\n",
       "        <td>111527.609949684</td>\n",
       "        <td>-26527.609949684</td>\n",
       "    </tr>\n",
       "    <tr>\n",
       "        <td>3</td>\n",
       "        <td>20</td>\n",
       "        <td>3</td>\n",
       "        <td>1.0</td>\n",
       "        <td>22500</td>\n",
       "        <td>1060</td>\n",
       "        <td>3500</td>\n",
       "        <td>20187.9052986341</td>\n",
       "        <td>2312.09470136587</td>\n",
       "    </tr>\n",
       "    <tr>\n",
       "        <td>4</td>\n",
       "        <td>870</td>\n",
       "        <td>2</td>\n",
       "        <td>2.0</td>\n",
       "        <td>90000</td>\n",
       "        <td>1300</td>\n",
       "        <td>17500</td>\n",
       "        <td>99354.9203362612</td>\n",
       "        <td>-9354.92033626116</td>\n",
       "    </tr>\n",
       "    <tr>\n",
       "        <td>5</td>\n",
       "        <td>1320</td>\n",
       "        <td>3</td>\n",
       "        <td>2.0</td>\n",
       "        <td>133000</td>\n",
       "        <td>1500</td>\n",
       "        <td>30000</td>\n",
       "        <td>124508.080626412</td>\n",
       "        <td>8491.91937358756</td>\n",
       "    </tr>\n",
       "    <tr>\n",
       "        <td>6</td>\n",
       "        <td>1350</td>\n",
       "        <td>2</td>\n",
       "        <td>1.0</td>\n",
       "        <td>90500</td>\n",
       "        <td>820</td>\n",
       "        <td>25700</td>\n",
       "        <td>96640.8258367579</td>\n",
       "        <td>-6140.8258367579</td>\n",
       "    </tr>\n",
       "    <tr>\n",
       "        <td>7</td>\n",
       "        <td>2790</td>\n",
       "        <td>3</td>\n",
       "        <td>2.5</td>\n",
       "        <td>260000</td>\n",
       "        <td>2130</td>\n",
       "        <td>25000</td>\n",
       "        <td>224650.799707327</td>\n",
       "        <td>35349.2002926733</td>\n",
       "    </tr>\n",
       "    <tr>\n",
       "        <td>8</td>\n",
       "        <td>680</td>\n",
       "        <td>2</td>\n",
       "        <td>1.0</td>\n",
       "        <td>142500</td>\n",
       "        <td>1170</td>\n",
       "        <td>22000</td>\n",
       "        <td>138458.174652714</td>\n",
       "        <td>4041.82534728572</td>\n",
       "    </tr>\n",
       "    <tr>\n",
       "        <td>9</td>\n",
       "        <td>1840</td>\n",
       "        <td>3</td>\n",
       "        <td>2.0</td>\n",
       "        <td>160000</td>\n",
       "        <td>1500</td>\n",
       "        <td>19000</td>\n",
       "        <td>138650.335313722</td>\n",
       "        <td>21349.6646862777</td>\n",
       "    </tr>\n",
       "    <tr>\n",
       "        <td>10</td>\n",
       "        <td>3680</td>\n",
       "        <td>4</td>\n",
       "        <td>2.0</td>\n",
       "        <td>240000</td>\n",
       "        <td>2790</td>\n",
       "        <td>20000</td>\n",
       "        <td>240000.0</td>\n",
       "        <td>0.0</td>\n",
       "    </tr>\n",
       "    <tr>\n",
       "        <td>11</td>\n",
       "        <td>1660</td>\n",
       "        <td>3</td>\n",
       "        <td>1.0</td>\n",
       "        <td>87000</td>\n",
       "        <td>1030</td>\n",
       "        <td>17500</td>\n",
       "        <td>62911.2752186594</td>\n",
       "        <td>24088.7247813406</td>\n",
       "    </tr>\n",
       "    <tr>\n",
       "        <td>12</td>\n",
       "        <td>1620</td>\n",
       "        <td>3</td>\n",
       "        <td>2.0</td>\n",
       "        <td>118600</td>\n",
       "        <td>1250</td>\n",
       "        <td>20000</td>\n",
       "        <td>117007.693446414</td>\n",
       "        <td>1592.30655358579</td>\n",
       "    </tr>\n",
       "    <tr>\n",
       "        <td>13</td>\n",
       "        <td>3100</td>\n",
       "        <td>3</td>\n",
       "        <td>2.0</td>\n",
       "        <td>140000</td>\n",
       "        <td>1760</td>\n",
       "        <td>38000</td>\n",
       "        <td>189203.861766403</td>\n",
       "        <td>-49203.8617664034</td>\n",
       "    </tr>\n",
       "    <tr>\n",
       "        <td>14</td>\n",
       "        <td>2070</td>\n",
       "        <td>2</td>\n",
       "        <td>3.0</td>\n",
       "        <td>148000</td>\n",
       "        <td>1550</td>\n",
       "        <td>14000</td>\n",
       "        <td>143322.539831869</td>\n",
       "        <td>4677.46016813093</td>\n",
       "    </tr>\n",
       "    <tr>\n",
       "        <td>15</td>\n",
       "        <td>650</td>\n",
       "        <td>3</td>\n",
       "        <td>1.5</td>\n",
       "        <td>65000</td>\n",
       "        <td>1450</td>\n",
       "        <td>12000</td>\n",
       "        <td>82452.4386727394</td>\n",
       "        <td>-17452.4386727394</td>\n",
       "    </tr>\n",
       "</table>"
      ],
      "text/plain": [
       "[(1, 590, 2, 1.0, 50000, 770, 22100, 43223.5393423978, 6776.46065760222),\n",
       " (2, 1050, 3, 2.0, 85000, 1410, 12000, 111527.609949684, -26527.609949684),\n",
       " (3, 20, 3, 1.0, 22500, 1060, 3500, 20187.9052986341, 2312.09470136587),\n",
       " (4, 870, 2, 2.0, 90000, 1300, 17500, 99354.9203362612, -9354.92033626116),\n",
       " (5, 1320, 3, 2.0, 133000, 1500, 30000, 124508.080626412, 8491.91937358756),\n",
       " (6, 1350, 2, 1.0, 90500, 820, 25700, 96640.8258367579, -6140.8258367579),\n",
       " (7, 2790, 3, 2.5, 260000, 2130, 25000, 224650.799707327, 35349.2002926733),\n",
       " (8, 680, 2, 1.0, 142500, 1170, 22000, 138458.174652714, 4041.82534728572),\n",
       " (9, 1840, 3, 2.0, 160000, 1500, 19000, 138650.335313722, 21349.6646862777),\n",
       " (10, 3680, 4, 2.0, 240000, 2790, 20000, 240000.0, 0.0),\n",
       " (11, 1660, 3, 1.0, 87000, 1030, 17500, 62911.2752186594, 24088.7247813406),\n",
       " (12, 1620, 3, 2.0, 118600, 1250, 20000, 117007.693446414, 1592.30655358579),\n",
       " (13, 3100, 3, 2.0, 140000, 1760, 38000, 189203.861766403, -49203.8617664034),\n",
       " (14, 2070, 2, 3.0, 148000, 1550, 14000, 143322.539831869, 4677.46016813093),\n",
       " (15, 650, 3, 1.5, 65000, 1450, 12000, 82452.4386727394, -17452.4386727394)]"
      ]
     },
     "execution_count": 28,
     "metadata": {},
     "output_type": "execute_result"
    }
   ],
   "source": [
    "%%sql\n",
    "SELECT casas.*,\n",
    "       madlib.linregr_predict( m.coef, ARRAY[1,taxas,banheiros,tamanho] ) as previsao,\n",
    "       preco - madlib.linregr_predict( m.coef, ARRAY[1,taxas,banheiros,tamanho]  ) as residual\n",
    "FROM casas\n",
    "JOIN casas_linregr_quartos m\n",
    "     ON casas.quartos = m.quartos\n",
    "ORDER BY id;"
   ]
  },
  {
   "cell_type": "markdown",
   "metadata": {},
   "source": [
    "# Gráficos"
   ]
  },
  {
   "cell_type": "markdown",
   "metadata": {},
   "source": [
    "Abaixo fazemos um camparativo entre o preços previstos e os existentes."
   ]
  },
  {
   "cell_type": "code",
   "execution_count": 30,
   "metadata": {},
   "outputs": [
    {
     "name": "stdout",
     "output_type": "stream",
     "text": [
      " * postgresql://guedes@:5434/guedes\n",
      "15 rows affected.\n"
     ]
    }
   ],
   "source": [
    "historico = %sql SELECT casas.*, madlib.linregr_predict( m.coef, ARRAY[1,taxas,banheiros,tamanho] ) as previsao, preco - madlib.linregr_predict( m.coef, ARRAY[1,taxas,banheiros,tamanho]  ) as residual FROM casas JOIN casas_linregr_quartos m ON casas.quartos = m.quartos ORDER BY id"
   ]
  },
  {
   "cell_type": "markdown",
   "metadata": {},
   "source": [
    "Embora acima é feita uma consulta SQL, abaixo usamos código Python para obter um `DataFrame` (um tipo de estrutura de dados da biblioteca `pandas`) e uma vez que obtenho esta estrutura eu posso desenhar um gráfico."
   ]
  },
  {
   "cell_type": "code",
   "execution_count": 31,
   "metadata": {},
   "outputs": [
    {
     "data": {
      "text/plain": [
       "<matplotlib.axes._subplots.AxesSubplot at 0x7f7c0017e4e0>"
      ]
     },
     "execution_count": 31,
     "metadata": {},
     "output_type": "execute_result"
    },
    {
     "data": {
      "image/png": "[encoded data removed]",
      "text/plain": [
       "<matplotlib.figure.Figure at 0x7f7c065dde80>"
      ]
     },
     "metadata": {},
     "output_type": "display_data"
    }
   ],
   "source": [
    "%matplotlib inline\n",
    "df = historico.DataFrame()\n",
    "\n",
    "df[['preco', 'previsao']].plot(figsize=(16,5))"
   ]
  }
 ],
 "metadata": {
  "kernelspec": {
   "display_name": "Python 3",
   "language": "python",
   "name": "python3"
  },
  "language_info": {
   "codemirror_mode": {
    "name": "ipython",
    "version": 3
   },
   "file_extension": ".py",
   "mimetype": "text/x-python",
   "name": "python",
   "nbconvert_exporter": "python",
   "pygments_lexer": "ipython3",
   "version": "3.5.4"
  },
  "varInspector": {
   "cols": {
    "lenName": 16,
    "lenType": 16,
    "lenVar": 40
   },
   "kernels_config": {
    "python": {
     "delete_cmd_postfix": "",
     "delete_cmd_prefix": "del ",
     "library": "var_list.py",
     "varRefreshCmd": "print(var_dic_list())"
    },
    "r": {
     "delete_cmd_postfix": ") ",
     "delete_cmd_prefix": "rm(",
     "library": "var_list.r",
     "varRefreshCmd": "cat(var_dic_list()) "
    }
   },
   "types_to_exclude": [
    "module",
    "function",
    "builtin_function_or_method",
    "instance",
    "_Feature"
   ],
   "window_display": false
  }
 },
 "nbformat": 4,
 "nbformat_minor": 1
}
